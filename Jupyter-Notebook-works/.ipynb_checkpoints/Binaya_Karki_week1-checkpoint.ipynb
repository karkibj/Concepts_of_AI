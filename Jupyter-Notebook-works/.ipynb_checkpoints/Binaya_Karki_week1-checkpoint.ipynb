{
 "cells": [
  {
   "cell_type": "markdown",
   "id": "d4853155",
   "metadata": {},
   "source": [
    "# Array Creation"
   ]
  },
  {
   "cell_type": "code",
   "execution_count": 13,
   "id": "282b9777",
   "metadata": {},
   "outputs": [
    {
     "name": "stdout",
     "output_type": "stream",
     "text": [
      "[[1.33360329e+241 3.66256474e-311]\n",
      " [2.18045374e+241 7.73806985e-310]]\n",
      "Enter the number to fill array5\n",
      "[[5 5 5]\n",
      " [5 5 5]\n",
      " [5 5 5]]\n",
      "[[0 0 0]\n",
      " [0 0 0]\n",
      " [0 0 0]]\n",
      "[[1 1 1]\n",
      " [1 1 1]\n",
      " [1 1 1]]\n",
      "[1 2 3 4 5]\n",
      "<class 'numpy.ndarray'>\n"
     ]
    }
   ],
   "source": [
    "import numpy as np\n",
    "\n",
    "#1\n",
    "arr=np.empty([2,2])\n",
    "print(arr)\n",
    "arr1=np.ones([4,2])\n",
    "arr1\n",
    "n=int(input(\"Enter the number to fill array\"))\n",
    "filledArray=np.full((3,3),n)\n",
    "print(filledArray)\n",
    "newArray=np.zeros_like(filledArray)\n",
    "print(newArray)\n",
    "\n",
    "newOnesArray=np.ones_like(newArray)\n",
    "print(newOnesArray)\n",
    "\n",
    "new_list=[1,2,3,4,5]\n",
    "arr_list=np.array(new_list)\n",
    "print(arr_list)\n",
    "print(type(arr_list))\n"
   ]
  },
  {
   "cell_type": "markdown",
   "id": "e2d55396",
   "metadata": {},
   "source": [
    "# Problem 2"
   ]
  },
  {
   "cell_type": "code",
   "execution_count": 25,
   "id": "7cb63900",
   "metadata": {},
   "outputs": [
    {
     "name": "stdout",
     "output_type": "stream",
     "text": [
      "[10 11 12 13 14 15 16 17 18 19 20 21 22 23 24 25 26 27 28 29 30 31 32 33\n",
      " 34 35 36 37 38 39 40 41 42 43 44 45 46 47 48]\n",
      "[0 1 2 3 4 5 6 7 8]\n",
      "[[0 1 2]\n",
      " [3 4 5]\n",
      " [6 7 8]]\n",
      "[[1. 0. 0.]\n",
      " [0. 1. 0.]\n",
      " [0. 0. 1.]]\n"
     ]
    }
   ],
   "source": [
    "#array with values raning from 10 to 49\n",
    "new_arr=np.arange(10,49)\n",
    "print(new_arr)\n",
    "oneDArray=np.arange(9)\n",
    "print(oneDArray)\n",
    "\n",
    "#now to reshape above array to get 3 rows and 3 columns at it contains 9 elements\n",
    "#we can now use np.reshape()\n",
    "reshaped=np.reshape(oneDArray,(3,3))\n",
    "print(reshaped)\n",
    "\n",
    "Imatrix=np.eye(3)\n",
    "print(Imatrix)\n",
    "\n",
    "\n"
   ]
  },
  {
   "cell_type": "code",
   "execution_count": 35,
   "id": "15d50813",
   "metadata": {},
   "outputs": [
    {
     "name": "stdout",
     "output_type": "stream",
     "text": [
      "[2.99984626e-01 9.06548369e-01 9.36947315e-01 6.09629084e-01\n",
      " 1.50883688e-01 8.41573329e-04 7.65383643e-01 2.36042629e-01\n",
      " 9.87932319e-01 3.37547053e-01 7.58339398e-01 4.00055015e-01\n",
      " 8.55158141e-01 8.70242912e-01 8.71777127e-01 8.32407309e-01\n",
      " 7.19588698e-01 4.98987164e-01 7.42590501e-01 1.89384992e-01\n",
      " 1.33760724e-01 2.01402674e-01 1.40040130e-01 2.00984639e-01\n",
      " 4.42959666e-01 8.18071095e-01 7.22419482e-01 9.11070516e-01\n",
      " 6.86683882e-01 5.07983205e-01]\n",
      "The mean of the random array is  0.5578549188904803\n",
      "\n",
      " Random 10 * 10 matrix \n",
      "[[0.68515112 0.62395723 0.40067521 0.93800106 0.63455831 0.93184418\n",
      "  0.89579198 0.0031865  0.89671682 0.07588422]\n",
      " [0.30511931 0.22043292 0.2867102  0.97810362 0.6969246  0.679106\n",
      "  0.48812795 0.91515323 0.70538125 0.04014133]\n",
      " [0.82643269 0.5978361  0.60249671 0.38453735 0.47912122 0.77035305\n",
      "  0.42269618 0.52496604 0.05475207 0.2515704 ]\n",
      " [0.34933296 0.59665668 0.59479619 0.46411346 0.28587353 0.53841835\n",
      "  0.43446584 0.06432351 0.14498732 0.97454336]\n",
      " [0.69617587 0.64908058 0.0813382  0.53142945 0.09012242 0.76476556\n",
      "  0.26132025 0.24417307 0.2523019  0.63842489]\n",
      " [0.75161501 0.22587818 0.94158202 0.0686675  0.3192846  0.25684515\n",
      "  0.33468424 0.53231956 0.63474055 0.15522085]\n",
      " [0.46842627 0.01221612 0.79997423 0.01556861 0.25481717 0.46462881\n",
      "  0.93978853 0.82514036 0.27617892 0.69622531]\n",
      " [0.1518869  0.16003687 0.90754543 0.77738094 0.91259039 0.25890974\n",
      "  0.07875333 0.68049877 0.63621412 0.96294818]\n",
      " [0.66766403 0.00613199 0.19177311 0.64717879 0.05941629 0.33421153\n",
      "  0.60284044 0.58964695 0.56067129 0.39860118]\n",
      " [0.03420701 0.21942421 0.59768479 0.03823051 0.2318548  0.54366273\n",
      "  0.46477978 0.94515656 0.70248099 0.41715011]]\n",
      "The maximum value for the array is0.9781036247055636 and minimum is 0.003186495173402526 \n"
     ]
    }
   ],
   "source": [
    "randomArray=np.random.random(30)\n",
    "print(randomArray)\n",
    "\n",
    "mean=randomArray.mean()\n",
    "print(\"The mean of the random array is \",mean)\n",
    "\n",
    "print(\"\\n Random 10 * 10 matrix \")\n",
    "randomMatrix=np.random.random((10,10))\n",
    "print(randomMatrix)\n",
    "\n",
    "max_value=np.max(randomMatrix)\n",
    "min_value=np.min(randomMatrix)\n",
    "\n",
    "print(f\"The maximum value for the array is{max_value} and minimum is {min_value} \")\n"
   ]
  },
  {
   "cell_type": "code",
   "execution_count": 39,
   "id": "07cd1e58",
   "metadata": {},
   "outputs": [
    {
     "name": "stdout",
     "output_type": "stream",
     "text": [
      "[0. 0. 0. 0. 0. 0. 0. 0. 0. 0.]\n",
      "[0. 0. 0. 0. 0. 1. 0. 0. 0. 0.]\n"
     ]
    }
   ],
   "source": [
    "#creating zeroa array and replaing elements\n",
    "zerosArray=np.zeros(10)\n",
    "print(zerosArray)\n",
    "zerosArray[5]=1\n",
    "print(zerosArray)\n",
    "\n"
   ]
  },
  {
   "cell_type": "code",
   "execution_count": 45,
   "id": "a2506da2",
   "metadata": {},
   "outputs": [
    {
     "name": "stdout",
     "output_type": "stream",
     "text": [
      "orginal array [1 2 0 0 4 0]\n",
      "Reversed array [0 4 0 0 2 1]\n",
      "1\n"
     ]
    }
   ],
   "source": [
    "arr = [1,2,0,0,4,0]\n",
    "np_arr=np.array(arr)\n",
    "print(\"orginal array\",np_arr)\n",
    "reversed_array=np.flip(np_arr)\n",
    "print(\"Reversed array\",reversed_array)\n",
    "print(np_arr[0])\n",
    "\n"
   ]
  },
  {
   "cell_type": "code",
   "execution_count": 50,
   "id": "c3f63084",
   "metadata": {},
   "outputs": [
    {
     "name": "stdout",
     "output_type": "stream",
     "text": [
      "[[1 1 1 1 1 1 1]\n",
      " [1 0 0 0 0 0 1]\n",
      " [1 0 0 0 0 0 1]\n",
      " [1 0 0 0 0 0 1]\n",
      " [1 0 0 0 0 0 1]\n",
      " [1 0 0 0 0 0 1]\n",
      " [1 1 1 1 1 1 1]]\n"
     ]
    }
   ],
   "source": [
    "boarder_array = np.zeros((7, 7), dtype=int)\n",
    "\n",
    "\n",
    "boarder_array[0, :] = 1          \n",
    "boarder_array[-1, :] = 1         \n",
    "boarder_array[:, 0] = 1     \n",
    "boarder_array[:, -1] = 1         \n",
    "\n",
    "print(boarder_array)"
   ]
  },
  {
   "cell_type": "code",
   "execution_count": 51,
   "id": "7a27a3ac",
   "metadata": {},
   "outputs": [
    {
     "name": "stdout",
     "output_type": "stream",
     "text": [
      "[[0 1 0 1 0 1 0 1]\n",
      " [0 1 0 1 0 1 0 1]\n",
      " [0 1 0 1 0 1 0 1]\n",
      " [0 1 0 1 0 1 0 1]\n",
      " [0 1 0 1 0 1 0 1]\n",
      " [0 1 0 1 0 1 0 1]\n",
      " [0 1 0 1 0 1 0 1]\n",
      " [0 1 0 1 0 1 0 1]]\n"
     ]
    }
   ],
   "source": [
    "row_pattern = np.array([0, 1] * 4)\n",
    "\n",
    "checkerboard = np.tile(row_pattern, (8, 1))\n",
    "\n",
    "print(checkerboard)"
   ]
  },
  {
   "cell_type": "code",
   "execution_count": 52,
   "id": "cd5d1fea",
   "metadata": {},
   "outputs": [
    {
     "name": "stdout",
     "output_type": "stream",
     "text": [
      "Addition result: [5 7 9]\n",
      "Subtraction result: [-3 -3 -3]\n",
      "Multiplication result (arr1 * 3): [3 6 9]\n",
      "Square of each element: [1 4 9]\n",
      "Dot product arr1·arr2: 32\n",
      "Dot product arr3·arr1: 50\n",
      "Dot product arr3·arr4: 266\n",
      "Concatenation of arr3 and arr4 along rows: [ 7  8  9 10 11 12]\n",
      "Concatenation of arr1 and arr2 along columns: [[1 4]\n",
      " [2 5]\n",
      " [3 6]]\n",
      "Error encountered: axis 1 is out of bounds for array of dimension 1\n",
      "Concatenation of arr3 and arr1 after reshaping: [[7 1]\n",
      " [8 2]\n",
      " [9 3]]\n"
     ]
    }
   ],
   "source": [
    "import numpy as np\n",
    "\n",
    "\n",
    "arr1 = np.array([1, 2, 3])\n",
    "arr2 = np.array([4, 5, 6])\n",
    "arr3 = np.array([7, 8, 9])\n",
    "arr4 = np.array([10, 11, 12])\n",
    "\n",
    "add_result = arr1 + arr2\n",
    "print(\"Addition result:\", add_result)\n",
    "\n",
    "\n",
    "subtract_result = arr1 - arr2\n",
    "print(\"Subtraction result:\", subtract_result)\n",
    "\n",
    "\n",
    "multiply_result = arr1 * 3\n",
    "print(\"Multiplication result (arr1 * 3):\", multiply_result)\n",
    "\n",
    "square_result = np.square(arr1)\n",
    "print(\"Square of each element:\", square_result)\n",
    "\n",
    "\n",
    "dot_arr1_arr2 = np.dot(arr1, arr2)\n",
    "dot_arr3_arr1 = np.dot(arr3, arr1)\n",
    "dot_arr3_arr4 = np.dot(arr3, arr4)\n",
    "\n",
    "print(\"Dot product arr1·arr2:\", dot_arr1_arr2)\n",
    "print(\"Dot product arr3·arr1:\", dot_arr3_arr1)\n",
    "print(\"Dot product arr3·arr4:\", dot_arr3_arr4)\n",
    "\n",
    "\n",
    "concat_arr3_arr4 = np.concatenate((arr3, arr4), axis=0)\n",
    "print(\"Concatenation of arr3 and arr4 along rows:\", concat_arr3_arr4)\n",
    "\n",
    "concat_arr1_arr2 = np.concatenate((arr1.reshape(-1, 1), arr2.reshape(-1, 1)), axis=1)\n",
    "print(\"Concatenation of arr1 and arr2 along columns:\", concat_arr1_arr2)\n",
    "\n",
    "\n",
    "try:\n",
    "    concat_arr3_arr1 = np.concatenate((arr3, arr1), axis=1)\n",
    "    print(\"Concatenation of arr3 and arr1 along columns:\", concat_arr3_arr1)\n",
    "except ValueError as e:\n",
    "    print(\"Error encountered:\", e)\n",
    "\n",
    "concat_arr3_arr1_fixed = np.concatenate((arr3.reshape(-1, 1), arr1.reshape(-1, 1)), axis=1)\n",
    "print(\"Concatenation of arr3 and arr1 after reshaping:\", concat_arr3_arr1_fixed)\n"
   ]
  },
  {
   "cell_type": "code",
   "execution_count": 53,
   "id": "1733c137",
   "metadata": {},
   "outputs": [
    {
     "name": "stdout",
     "output_type": "stream",
     "text": [
      "A * A_inv = \n",
      " [[1.0000000e+00 4.4408921e-16]\n",
      " [0.0000000e+00 1.0000000e+00]]\n",
      "Identity matrix I = \n",
      " [[1 0]\n",
      " [0 1]]\n",
      "AB = \n",
      " [[23 13]\n",
      " [51 29]]\n",
      "BA = \n",
      " [[36 44]\n",
      " [13 16]]\n",
      "(AB)^T = \n",
      " [[23 51]\n",
      " [13 29]]\n",
      "B^T * A^T = \n",
      " [[23 51]\n",
      " [13 29]]\n",
      "Solution (x, y, z) = \n",
      " [ 2.  1. -2.]\n"
     ]
    }
   ],
   "source": [
    "import numpy as np\n",
    "\n",
    "A = np.array([[3, 4], [7, 8]])\n",
    "A_inv = np.linalg.inv(A)\n",
    "I = np.array([[1, 0], [0, 1]])\n",
    "\n",
    "result_AA_inv = np.dot(A, A_inv)\n",
    "print(\"A * A_inv = \\n\", result_AA_inv)\n",
    "print(\"Identity matrix I = \\n\", I)\n",
    "\n",
    "B = np.array([[5, 3], [2, 1]])\n",
    "AB = np.dot(A, B)\n",
    "BA = np.dot(B, A)\n",
    "print(\"AB = \\n\", AB)\n",
    "print(\"BA = \\n\", BA)\n",
    "\n",
    "AB_T = np.transpose(np.dot(A, B))\n",
    "B_T_A_T = np.dot(np.transpose(B), np.transpose(A))\n",
    "print(\"(AB)^T = \\n\", AB_T)\n",
    "print(\"B^T * A^T = \\n\", B_T_A_T)\n",
    "\n",
    "A_eq = np.array([[2, -3, 1], [1, -1, 2], [3, 1, -1]])\n",
    "B_eq = np.array([-1, -3, 9])\n",
    "\n",
    "A_inv_eq = np.linalg.inv(A_eq)\n",
    "X = np.dot(A_inv_eq, B_eq)\n",
    "\n",
    "print(\"Solution (x, y, z) = \\n\", X)\n"
   ]
  },
  {
   "cell_type": "code",
   "execution_count": null,
   "id": "f99aa657",
   "metadata": {},
   "outputs": [],
   "source": []
  }
 ],
 "metadata": {
  "kernelspec": {
   "display_name": "Python 3 (ipykernel)",
   "language": "python",
   "name": "python3"
  },
  "language_info": {
   "codemirror_mode": {
    "name": "ipython",
    "version": 3
   },
   "file_extension": ".py",
   "mimetype": "text/x-python",
   "name": "python",
   "nbconvert_exporter": "python",
   "pygments_lexer": "ipython3",
   "version": "3.10.9"
  }
 },
 "nbformat": 4,
 "nbformat_minor": 5
}
