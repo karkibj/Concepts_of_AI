{
 "cells": [
  {
   "cell_type": "markdown",
   "id": "d54ce54c",
   "metadata": {},
   "source": [
    "# Task1"
   ]
  },
  {
   "cell_type": "code",
   "execution_count": 8,
   "id": "3955a20b",
   "metadata": {},
   "outputs": [
    {
     "name": "stdout",
     "output_type": "stream",
     "text": [
      "The sum is 36\n"
     ]
    }
   ],
   "source": [
    "def sum_nested_list(nested_list):\n",
    "    total = 0\n",
    "    for element in nested_list:\n",
    "        if isinstance(element, list):  # Check if the element is a list\n",
    "            total += sum_nested_list(element)  # Recursively sum the nested list\n",
    "        else:\n",
    "            total += element  # Add the number to the total\n",
    "    return total\n",
    "\n",
    "nested_list = [1, [2, [3, 4], 5], 6, [7, 8]]\n",
    "print(\"The sum is\", sum_nested_list(nested_list))\n"
   ]
  },
  {
   "cell_type": "markdown",
   "id": "8569aaf3",
   "metadata": {},
   "source": [
    "# Task2"
   ]
  },
  {
   "cell_type": "code",
   "execution_count": 10,
   "id": "35c8084e",
   "metadata": {},
   "outputs": [
    {
     "name": "stdout",
     "output_type": "stream",
     "text": [
      "Permutations of the word are: ['abc', 'acb', 'bac', 'bca', 'cab', 'cba']\n"
     ]
    }
   ],
   "source": [
    "def generate_permutations(given_word):\n",
    "\n",
    "    if len(given_word) == 1:\n",
    "        return [given_word]\n",
    "    \n",
    "    permutations = [] \n",
    "    \n",
    "   \n",
    "    for i, char in enumerate(given_word):\n",
    "   \n",
    "        remaining = given_word[:i] + given_word[i+1:]\n",
    "        \n",
    "        \n",
    "        for perm in generate_permutations(remaining):\n",
    "            \n",
    "            permutations.append(char + perm)\n",
    "    \n",
    "    return permutations\n",
    "given_word = \"abc\"\n",
    "result = generate_permutations(given_word)\n",
    "print(\"Permutations of the word are:\", result)\n",
    "\n",
    "    "
   ]
  },
  {
   "cell_type": "code",
   "execution_count": 11,
   "id": "03f9906e",
   "metadata": {},
   "outputs": [
    {
     "name": "stdout",
     "output_type": "stream",
     "text": [
      "Total directory size: 1400 KB\n"
     ]
    }
   ],
   "source": [
    "def calculate_directory_size(directory):\n",
    "    total_size = 0\n",
    "    \n",
    "    for key, value in directory.items():\n",
    "        if isinstance(value, dict):\n",
    "            total_size += calculate_directory_size(value)\n",
    "        else:\n",
    "            total_size += value\n",
    "    \n",
    "    return total_size\n",
    "\n",
    "directory_structure = {\n",
    "    \"file1.txt\": 200,\n",
    "    \"file2.txt\": 300,\n",
    "    \"subdir1\": {\n",
    "        \"file3.txt\": 400,\n",
    "        \"file4.txt\": 100\n",
    "    },\n",
    "    \"subdir2\": {\n",
    "        \"subsubdir1\": {\n",
    "            \"file5.txt\": 250\n",
    "        },\n",
    "        \"file6.txt\": 150\n",
    "    }\n",
    "}\n",
    "\n",
    "total_size = calculate_directory_size(directory_structure)\n",
    "print(\"Total directory size:\", total_size, \"KB\")\n"
   ]
  },
  {
   "cell_type": "markdown",
   "id": "b2295567",
   "metadata": {},
   "source": [
    "# Dynamic programming"
   ]
  },
  {
   "cell_type": "code",
   "execution_count": 3,
   "id": "594fa137",
   "metadata": {},
   "outputs": [
    {
     "name": "stdout",
     "output_type": "stream",
     "text": [
      "3\n"
     ]
    }
   ],
   "source": [
    "#TASK1\n",
    "def min_coins(coins, amount):\n",
    "    dp = [float('inf')] * (amount + 1)\n",
    "    dp[0] = 0\n",
    "    for coin in coins:\n",
    "        for i in range(coin, amount + 1):\n",
    "            dp[i] = min(dp[i], dp[i - coin] + 1)\n",
    "    return dp[amount] if dp[amount] != float('inf') else -1\n",
    "\n",
    "print(min_coins([1, 2, 5], 11)) \n"
   ]
  },
  {
   "cell_type": "code",
   "execution_count": 4,
   "id": "ecf78fd4",
   "metadata": {},
   "outputs": [
    {
     "name": "stdout",
     "output_type": "stream",
     "text": [
      "3\n"
     ]
    }
   ],
   "source": [
    "#Task2\n",
    "def longest_common_subsequence(s1, s2):\n",
    "    n, m = len(s1), len(s2)\n",
    "    dp = [[0] * (m + 1) for _ in range(n + 1)]\n",
    "    for i in range(1, n + 1):\n",
    "        for j in range(1, m + 1):\n",
    "            if s1[i - 1] == s2[j - 1]:\n",
    "                dp[i][j] = dp[i - 1][j - 1] + 1\n",
    "            else:\n",
    "                dp[i][j] = max(dp[i - 1][j], dp[i][j - 1])\n",
    "    return dp[n][m]\n",
    "\n",
    "print(longest_common_subsequence(\"abcde\", \"ace\"))\n"
   ]
  },
  {
   "cell_type": "code",
   "execution_count": 5,
   "id": "d8f45f8f",
   "metadata": {},
   "outputs": [
    {
     "name": "stdout",
     "output_type": "stream",
     "text": [
      "9\n"
     ]
    }
   ],
   "source": [
    "#Task3\n",
    "def knapsack(weights, values, capacity):\n",
    "    n = len(weights)\n",
    "    dp = [[0] * (capacity + 1) for _ in range(n + 1)]\n",
    "    for i in range(1, n + 1):\n",
    "        for w in range(1, capacity + 1):\n",
    "            if weights[i - 1] <= w:\n",
    "                dp[i][w] = max(dp[i - 1][w], dp[i - 1][w - weights[i - 1]] + values[i - 1])\n",
    "            else:\n",
    "                dp[i][w] = dp[i - 1][w]\n",
    "    return dp[n][capacity]\n",
    "\n",
    "print(knapsack([1, 3, 4, 5], [1, 4, 5, 7], 7))  \n"
   ]
  },
  {
   "cell_type": "code",
   "execution_count": null,
   "id": "7cf3305f",
   "metadata": {},
   "outputs": [],
   "source": []
  }
 ],
 "metadata": {
  "kernelspec": {
   "display_name": "Python 3 (ipykernel)",
   "language": "python",
   "name": "python3"
  },
  "language_info": {
   "codemirror_mode": {
    "name": "ipython",
    "version": 3
   },
   "file_extension": ".py",
   "mimetype": "text/x-python",
   "name": "python",
   "nbconvert_exporter": "python",
   "pygments_lexer": "ipython3",
   "version": "3.10.9"
  }
 },
 "nbformat": 4,
 "nbformat_minor": 5
}
