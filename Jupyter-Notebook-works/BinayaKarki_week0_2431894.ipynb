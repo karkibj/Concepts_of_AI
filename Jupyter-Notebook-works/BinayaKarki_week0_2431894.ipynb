{
 "cells": [
  {
   "cell_type": "markdown",
   "id": "4894e12f",
   "metadata": {},
   "source": [
    "# Task1"
   ]
  },
  {
   "cell_type": "code",
   "execution_count": 2,
   "id": "819fea1a",
   "metadata": {},
   "outputs": [
    {
     "name": "stdout",
     "output_type": "stream",
     "text": [
      "Weather Condition-8.2 : Cold\n",
      "Weather Condition-17.4 : Comfortable\n",
      "Weather Condition-14.1 : Mild\n",
      "Weather Condition-7.9 : Cold\n",
      "Weather Condition-18.0 : Comfortable\n",
      "Weather Condition-13.5 : Mild\n",
      "Weather Condition-9.0 : Cold\n",
      "Weather Condition-17.8 : Comfortable\n",
      "Weather Condition-13.0 : Mild\n",
      "Weather Condition-8.5 : Cold\n",
      "Weather Condition-16.5 : Comfortable\n",
      "Weather Condition-12.9 : Mild\n",
      "Weather Condition-7.7 : Cold\n",
      "Weather Condition-17.2 : Comfortable\n",
      "Weather Condition-13.3 : Mild\n",
      "Weather Condition-8.4 : Cold\n",
      "Weather Condition-16.7 : Comfortable\n",
      "Weather Condition-14.0 : Mild\n",
      "Weather Condition-9.5 : Cold\n",
      "Weather Condition-18.3 : Comfortable\n",
      "Weather Condition-13.4 : Mild\n",
      "Weather Condition-8.1 : Cold\n",
      "Weather Condition-17.9 : Comfortable\n",
      "Weather Condition-14.2 : Mild\n",
      "Weather Condition-7.6 : Cold\n",
      "Weather Condition-17.0 : Comfortable\n",
      "Weather Condition-12.8 : Mild\n",
      "Weather Condition-8.0 : Cold\n",
      "Weather Condition-16.8 : Comfortable\n",
      "Weather Condition-13.7 : Mild\n",
      "Weather Condition-7.8 : Cold\n",
      "Weather Condition-17.5 : Comfortable\n",
      "Weather Condition-13.6 : Mild\n",
      "Weather Condition-8.7 : Cold\n",
      "Weather Condition-17.1 : Comfortable\n",
      "Weather Condition-13.8 : Mild\n",
      "Weather Condition-9.2 : Cold\n",
      "Weather Condition-18.1 : Comfortable\n",
      "Weather Condition-13.9 : Mild\n",
      "Weather Condition-8.3 : Cold\n",
      "Weather Condition-16.4 : Comfortable\n",
      "Weather Condition-12.7 : Mild\n",
      "Weather Condition-8.9 : Cold\n",
      "Weather Condition-18.2 : Comfortable\n",
      "Weather Condition-13.1 : Mild\n",
      "Weather Condition-7.8 : Cold\n",
      "Weather Condition-16.6 : Comfortable\n",
      "Weather Condition-12.5 : Mild\n"
     ]
    }
   ],
   "source": [
    "#function to iterate temperatures \n",
    "def check_condition(temp):\n",
    "    try:\n",
    "        match temp:\n",
    "            case temp if temp <10:\n",
    "                 return \"Cold\"\n",
    "            case temp if 10 <= temp <= 15:\n",
    "                return \"Mild\"\n",
    "            case temp if 15< temp <= 20:  \n",
    "                return \"Comfortable\"\n",
    "            case _:\n",
    "                print(\"No data for given temperature\")\n",
    "    except Exception as e:\n",
    "        print(\"Invalid Data\",e)\n",
    "\n",
    "#Data Set (List of temperature measured at Tribhuwan International Airport)\n",
    "temperatures = [8.2, 17.4, 14.1, 7.9, 18.0, 13.5, 9.0, 17.8, 13.0, 8.5,\n",
    " 16.5, 12.9, 7.7, 17.2, 13.3, 8.4, 16.7, 14.0, 9.5, 18.3, 13.4, 8.1,\n",
    " 17.9, 14.2, 7.6, 17.0, 12.8, 8.0, 16.8, 13.7, 7.8, 17.5, 13.6, 8.7,\n",
    " 17.1, 13.8, 9.2, 18.1, 13.9, 8.3, 16.4, 12.7, 8.9, 18.2, 13.1, 7.8,\n",
    " 16.6, 12.5]\n",
    "\n",
    "counter_list=[]\n",
    "for temp in temperatures:\n",
    "    result=check_condition(temp)\n",
    "    counter_list.append(result)\n",
    "    print(f\"Weather Condition-{temp} :\",result)"
   ]
  },
  {
   "cell_type": "markdown",
   "id": "d7638a39",
   "metadata": {},
   "source": [
    "# Task2"
   ]
  },
  {
   "cell_type": "code",
   "execution_count": 3,
   "id": "72e5c8df",
   "metadata": {},
   "outputs": [
    {
     "name": "stdout",
     "output_type": "stream",
     "text": [
      "It was 16 times Cold\n",
      "It was 16 times Mild\n",
      "It was 16 times Comfortable\n"
     ]
    }
   ],
   "source": [
    "#Counting times\n",
    "Conditions=[\"Cold\",\"Mild\",\"Comfortable\"]\n",
    "def counter(condition):\n",
    "    n=counter_list.count(condition)\n",
    "    print(f\"It was {n} times {condition}\")\n",
    "for i in Conditions:\n",
    "    counter(i)\n"
   ]
  },
  {
   "cell_type": "markdown",
   "id": "80a0e1e8",
   "metadata": {},
   "source": [
    "# Task3"
   ]
  },
  {
   "cell_type": "code",
   "execution_count": 5,
   "id": "911d3b4d",
   "metadata": {},
   "outputs": [
    {
     "name": "stdout",
     "output_type": "stream",
     "text": [
      "Temperatures in Fahrenheit\n",
      " [46.76, 63.31999999999999, 57.379999999999995, 46.22, 64.4, 56.3, 48.2, 64.03999999999999, 55.400000000000006, 47.3, 61.7, 55.22, 45.86, 62.96, 55.94, 47.120000000000005, 62.06, 57.2, 49.1, 64.94, 56.120000000000005, 46.58, 64.22, 57.56, 45.68, 62.6, 55.040000000000006, 46.4, 62.24, 56.66, 46.04, 63.5, 56.480000000000004, 47.66, 62.78, 56.84, 48.56, 64.58000000000001, 57.019999999999996, 46.94, 61.519999999999996, 54.86, 48.019999999999996, 64.75999999999999, 55.58, 46.04, 61.88, 54.5]\n"
     ]
    }
   ],
   "source": [
    "#Converting Temperature into Fahrenheit\n",
    "def converter(c):\n",
    "    f=(c*(9/5))+32\n",
    "    return f\n",
    "converted_temperatures=[]\n",
    "for celsius in temperatures:\n",
    "    fahrenheit=converter(celsius)\n",
    "    converted_temperatures.append(fahrenheit)\n",
    "print(\"Temperatures in Fahrenheit\\n\",converted_temperatures)\n",
    "    "
   ]
  },
  {
   "cell_type": "markdown",
   "id": "10c25b63",
   "metadata": {},
   "source": [
    "# Task4"
   ]
  },
  {
   "cell_type": "code",
   "execution_count": 11,
   "id": "51881f58",
   "metadata": {},
   "outputs": [],
   "source": [
    "day = []\n",
    "evening = []\n",
    "night = []\n",
    "\n",
    "for i, temp in enumerate(temperatures):\n",
    "    if i % 3 == 0:\n",
    "        night.append(temp)\n",
    "    elif i % 3 == 1:\n",
    "        evening.append(temp)\n",
    "    else:\n",
    "        day.append(temp)\n",
    "\n",
    "print(\"Temperatures in night \\n :\", night)\n",
    "print(\"Temperatures in Evening \\n:\", evening)\n",
    "print(\"Temperatures in Day \\n \", day)\n",
    "\n",
    "avg_night_temp = sum(night) / len(night)\n",
    "avg_evening_temp = sum(evening) / len(evening)\n",
    "avg_day_temp = sum(day) / len(day)\n",
    "\n",
    "print(f\"Average Night Temperature: {avg_night_temp:.2f}°C\")\n",
    "print(f\"Average Evening Temperature: {avg_evening_temp:.2f}°C\")\n",
    "print(f\"Average Day Temperature: {avg_day_temp:.2f}°C\")\n",
    "\n",
    "        "
   ]
  },
  {
   "cell_type": "markdown",
   "id": "9811d334",
   "metadata": {},
   "source": [
    "# Recursion Tasks\n"
   ]
  },
  {
   "cell_type": "markdown",
   "id": "2d5c94c9",
   "metadata": {},
   "source": [
    "# Task1"
   ]
  },
  {
   "cell_type": "code",
   "execution_count": 1,
   "id": "67619cf3",
   "metadata": {},
   "outputs": [
    {
     "name": "stdout",
     "output_type": "stream",
     "text": [
      "The sum is 36\n"
     ]
    }
   ],
   "source": [
    "def sum_nested_list(nested_list):\n",
    "    total = 0\n",
    "    for element in nested_list:\n",
    "        if isinstance(element, list):  # Check if the element is a list\n",
    "            total += sum_nested_list(element)  # Recursively sum the nested list\n",
    "        else:\n",
    "            total += element  # Add the number to the total\n",
    "    return total\n",
    "\n",
    "nested_list = [1, [2, [3, 4], 5], 6, [7, 8]]\n",
    "print(\"The sum is\", sum_nested_list(nested_list))\n"
   ]
  },
  {
   "cell_type": "markdown",
   "id": "7479dcff",
   "metadata": {},
   "source": [
    "# Task2"
   ]
  },
  {
   "cell_type": "code",
   "execution_count": 2,
   "id": "9c2cc265",
   "metadata": {},
   "outputs": [
    {
     "name": "stdout",
     "output_type": "stream",
     "text": [
      "Permutations of the word are: ['abc', 'acb', 'bac', 'bca', 'cab', 'cba']\n"
     ]
    }
   ],
   "source": [
    "def generate_permutations(given_word):\n",
    "\n",
    "    if len(given_word) == 1:\n",
    "        return [given_word]\n",
    "    \n",
    "    permutations = [] \n",
    "    \n",
    "   \n",
    "    for i, char in enumerate(given_word):\n",
    "   \n",
    "        remaining = given_word[:i] + given_word[i+1:]\n",
    "        \n",
    "        \n",
    "        for perm in generate_permutations(remaining):\n",
    "            \n",
    "            permutations.append(char + perm)\n",
    "    \n",
    "    return permutations\n",
    "given_word = \"abc\"\n",
    "result = generate_permutations(given_word)\n",
    "print(\"Permutations of the word are:\", result)\n",
    "\n",
    "    "
   ]
  },
  {
   "cell_type": "markdown",
   "id": "06b65594",
   "metadata": {},
   "source": [
    "# Task3"
   ]
  },
  {
   "cell_type": "markdown",
   "id": "bfbc9540",
   "metadata": {},
   "source": [
    "# def calculate_directory_size(directory):\n",
    "    total_size = 0\n",
    "    \n",
    "    for key, value in directory.items():\n",
    "        if isinstance(value, dict):\n",
    "            total_size += calculate_directory_size(value)\n",
    "        else:\n",
    "            total_size += value\n",
    "    \n",
    "    return total_size\n",
    "\n",
    "directory_structure = {\n",
    "    \"file1.txt\": 200,\n",
    "    \"file2.txt\": 300,\n",
    "    \"subdir1\": {\n",
    "        \"file3.txt\": 400,\n",
    "        \"file4.txt\": 100\n",
    "    },\n",
    "    \"subdir2\": {\n",
    "        \"subsubdir1\": {\n",
    "            \"file5.txt\": 250\n",
    "        },\n",
    "        \"file6.txt\": 150\n",
    "    }\n",
    "}\n",
    "\n",
    "total_size = calculate_directory_size(directory_structure)\n",
    "print(\"Total directory size:\", total_size, \"KB\")\n"
   ]
  },
  {
   "cell_type": "markdown",
   "id": "39bb1541",
   "metadata": {},
   "source": [
    "# Dynamic Programming Tasks\n"
   ]
  },
  {
   "cell_type": "markdown",
   "id": "fa72e3b1",
   "metadata": {},
   "source": [
    "# Task1"
   ]
  },
  {
   "cell_type": "code",
   "execution_count": 4,
   "id": "de7290d8",
   "metadata": {},
   "outputs": [
    {
     "name": "stdout",
     "output_type": "stream",
     "text": [
      "3\n"
     ]
    }
   ],
   "source": [
    "#TASK1\n",
    "def min_coins(coins, amount):\n",
    "    dp = [float('inf')] * (amount + 1)\n",
    "    dp[0] = 0\n",
    "    for coin in coins:\n",
    "        for i in range(coin, amount + 1):\n",
    "            dp[i] = min(dp[i], dp[i - coin] + 1)\n",
    "    return dp[amount] if dp[amount] != float('inf') else -1\n",
    "\n",
    "print(min_coins([1, 2, 5], 11)) \n"
   ]
  },
  {
   "cell_type": "code",
   "execution_count": 5,
   "id": "94202f6f",
   "metadata": {},
   "outputs": [
    {
     "name": "stdout",
     "output_type": "stream",
     "text": [
      "3\n"
     ]
    }
   ],
   "source": [
    "#Task2\n",
    "def longest_common_subsequence(s1, s2):\n",
    "    n, m = len(s1), len(s2)\n",
    "    dp = [[0] * (m + 1) for _ in range(n + 1)]\n",
    "    for i in range(1, n + 1):\n",
    "        for j in range(1, m + 1):\n",
    "            if s1[i - 1] == s2[j - 1]:\n",
    "                dp[i][j] = dp[i - 1][j - 1] + 1\n",
    "            else:\n",
    "                dp[i][j] = max(dp[i - 1][j], dp[i][j - 1])\n",
    "    return dp[n][m]\n",
    "\n",
    "print(longest_common_subsequence(\"abcde\", \"ace\"))\n"
   ]
  },
  {
   "cell_type": "code",
   "execution_count": 6,
   "id": "7291faf3",
   "metadata": {},
   "outputs": [
    {
     "name": "stdout",
     "output_type": "stream",
     "text": [
      "9\n"
     ]
    }
   ],
   "source": [
    "#Task3\n",
    "def knapsack(weights, values, capacity):\n",
    "    n = len(weights)\n",
    "    dp = [[0] * (capacity + 1) for _ in range(n + 1)]\n",
    "    for i in range(1, n + 1):\n",
    "        for w in range(1, capacity + 1):\n",
    "            if weights[i - 1] <= w:\n",
    "                dp[i][w] = max(dp[i - 1][w], dp[i - 1][w - weights[i - 1]] + values[i - 1])\n",
    "            else:\n",
    "                dp[i][w] = dp[i - 1][w]\n",
    "    return dp[n][capacity]\n",
    "\n",
    "print(knapsack([1, 3, 4, 5], [1, 4, 5, 7], 7))  \n"
   ]
  },
  {
   "cell_type": "code",
   "execution_count": null,
   "id": "e2fb4feb",
   "metadata": {},
   "outputs": [],
   "source": []
  }
 ],
 "metadata": {
  "kernelspec": {
   "display_name": "Python 3 (ipykernel)",
   "language": "python",
   "name": "python3"
  },
  "language_info": {
   "codemirror_mode": {
    "name": "ipython",
    "version": 3
   },
   "file_extension": ".py",
   "mimetype": "text/x-python",
   "name": "python",
   "nbconvert_exporter": "python",
   "pygments_lexer": "ipython3",
   "version": "3.10.9"
  }
 },
 "nbformat": 4,
 "nbformat_minor": 5
}
