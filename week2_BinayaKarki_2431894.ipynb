{
 "cells": [
  {
   "cell_type": "markdown",
   "id": "6abaaacc",
   "metadata": {},
   "source": [
    "# PROBLEM 1 WORKING WITH BANK.CSV"
   ]
  },
  {
   "cell_type": "code",
   "execution_count": 38,
   "id": "e217aec4",
   "metadata": {},
   "outputs": [
    {
     "name": "stdout",
     "output_type": "stream",
     "text": [
      "   age           job  marital  education default  balance housing loan  \\\n",
      "0   58    management  married   tertiary      no     2143     yes   no   \n",
      "1   44    technician   single  secondary      no       29     yes   no   \n",
      "2   33  entrepreneur  married  secondary      no        2     yes  yes   \n",
      "3   47   blue-collar  married    unknown      no     1506     yes   no   \n",
      "4   33       unknown   single    unknown      no        1      no   no   \n",
      "\n",
      "   contact  day month  duration  campaign  pdays  previous poutcome   y  \n",
      "0  unknown    5   may       261         1     -1         0  unknown  no  \n",
      "1  unknown    5   may       151         1     -1         0  unknown  no  \n",
      "2  unknown    5   may        76         1     -1         0  unknown  no  \n",
      "3  unknown    5   may        92         1     -1         0  unknown  no  \n",
      "4  unknown    5   may       198         1     -1         0  unknown  no  \n",
      "<class 'pandas.core.frame.DataFrame'>\n",
      "\n",
      "<class 'pandas.core.frame.DataFrame'>\n",
      "RangeIndex: 45211 entries, 0 to 45210\n",
      "Data columns (total 17 columns):\n",
      " #   Column     Non-Null Count  Dtype \n",
      "---  ------     --------------  ----- \n",
      " 0   age        45211 non-null  int64 \n",
      " 1   job        45211 non-null  object\n",
      " 2   marital    45211 non-null  object\n",
      " 3   education  45211 non-null  object\n",
      " 4   default    45211 non-null  object\n",
      " 5   balance    45211 non-null  int64 \n",
      " 6   housing    45211 non-null  object\n",
      " 7   loan       45211 non-null  object\n",
      " 8   contact    45211 non-null  object\n",
      " 9   day        45211 non-null  int64 \n",
      " 10  month      45211 non-null  object\n",
      " 11  duration   45211 non-null  int64 \n",
      " 12  campaign   45211 non-null  int64 \n",
      " 13  pdays      45211 non-null  int64 \n",
      " 14  previous   45211 non-null  int64 \n",
      " 15  poutcome   45211 non-null  object\n",
      " 16  y          45211 non-null  object\n",
      "dtypes: int64(7), object(10)\n",
      "memory usage: 5.9+ MB\n",
      "The data has 45211 rows and 17 columns\n"
     ]
    }
   ],
   "source": [
    "import pandas as pd\n",
    "\n",
    "# Load the CSV file\n",
    "file_path = \"Datasets/bank.csv\" \n",
    "df = pd.read_csv(file_path)\n",
    "\n",
    "print(df.head())\n",
    "\n",
    "print(type(df))\n",
    "\n",
    "print()\n",
    "#using method .info()\n",
    "\n",
    "df.info()\n",
    "print(f\"The data has {df.shape[0]} rows and {df.shape[1]} columns\")\n",
    "\n"
   ]
  },
  {
   "cell_type": "code",
   "execution_count": 14,
   "id": "ee4c53c4",
   "metadata": {},
   "outputs": [
    {
     "name": "stdout",
     "output_type": "stream",
     "text": [
      "<class 'pandas.core.indexes.base.Index'>\n",
      "Index(['job', 'marital', 'education', 'default', 'housing', 'loan', 'contact',\n",
      "       'month', 'poutcome', 'y'],\n",
      "      dtype='object')\n"
     ]
    }
   ],
   "source": [
    "# Identify columns with dtype = object\n",
    "object_columns = df.select_dtypes(include='object').columns \n",
    "\n",
    "#using .columns will give only the columns in the list form --Bizay \n",
    "#selecting all the columns which contains non numeric values ---Bizay\n",
    "print(type(object_columns))\n",
    "print(object_columns)\n",
    "\n",
    "\n",
    "\n"
   ]
  },
  {
   "cell_type": "markdown",
   "id": "e7ed807f",
   "metadata": {},
   "source": [
    "now Iterating each columns to get what are the values that are included on that specific columns . It helps to get all the possible inputs "
   ]
  },
  {
   "cell_type": "code",
   "execution_count": 18,
   "id": "5b7a1cc5",
   "metadata": {},
   "outputs": [
    {
     "name": "stdout",
     "output_type": "stream",
     "text": [
      "All the unique values in Column job\n",
      "['management' 'technician' 'entrepreneur' 'blue-collar' 'unknown'\n",
      " 'retired' 'admin.' 'services' 'self-employed' 'unemployed' 'housemaid'\n",
      " 'student']\n",
      "\n",
      "All the unique values in Column marital\n",
      "['married' 'single' 'divorced']\n",
      "\n",
      "All the unique values in Column education\n",
      "['tertiary' 'secondary' 'unknown' 'primary']\n",
      "\n",
      "All the unique values in Column default\n",
      "['no' 'yes' ' ']\n",
      "\n",
      "All the unique values in Column housing\n",
      "['yes' 'no']\n",
      "\n",
      "All the unique values in Column loan\n",
      "['no' 'yes']\n",
      "\n",
      "All the unique values in Column contact\n",
      "['unknown' 'cellular' 'telephone']\n",
      "\n",
      "All the unique values in Column month\n",
      "['may' 'jun' 'jul' 'aug' 'oct' 'nov' 'dec' 'jan' 'feb' 'mar' 'apr' 'sep']\n",
      "\n",
      "All the unique values in Column poutcome\n",
      "['unknown' 'failure' 'other' 'success']\n",
      "\n",
      "All the unique values in Column y\n",
      "['no' 'yes']\n",
      "\n"
     ]
    }
   ],
   "source": [
    "for col in object_columns:\n",
    "    print(f\"All the unique values in Column {col}\")\n",
    "    print(df[col].unique())\n",
    "    print()\n",
    "    \n",
    "    \n",
    "    "
   ]
  },
  {
   "cell_type": "code",
   "execution_count": 26,
   "id": "a644655c",
   "metadata": {},
   "outputs": [
    {
     "name": "stdout",
     "output_type": "stream",
     "text": [
      "\n",
      "0\n",
      "age          0\n",
      "job          0\n",
      "marital      0\n",
      "education    0\n",
      "default      0\n",
      "balance      0\n",
      "housing      0\n",
      "loan         0\n",
      "contact      0\n",
      "day          0\n",
      "month        0\n",
      "duration     0\n",
      "campaign     0\n",
      "pdays        0\n",
      "previous     0\n",
      "poutcome     0\n",
      "y            0\n",
      "dtype: int64\n"
     ]
    }
   ],
   "source": [
    "#Checking the total number of null values in each columns\n",
    "\n",
    "null_values = df.isnull().sum()\n",
    "#if I want for only one sepcific columns\n",
    "\n",
    "null_count_age=df['age'].isnull().sum()\n",
    "\n",
    "print()\n",
    "print(null_count_age)\n",
    "print(null_values)"
   ]
  },
  {
   "cell_type": "markdown",
   "id": "817a0842",
   "metadata": {},
   "source": [
    "Its amazing that pandas provide us amazing methods that automatically gives the total null values for all the columns available. Just using the method df.isnull().sum\n",
    "\n",
    "#The dtype: int64 at the end indicates that the values in the Series (which represent the count of null values for each column) are of integer type (int64)."
   ]
  },
  {
   "cell_type": "code",
   "execution_count": 34,
   "id": "afd1d362",
   "metadata": {},
   "outputs": [
    {
     "name": "stdout",
     "output_type": "stream",
     "text": [
      "       age  balance  day  duration  campaign  pdays  previous\n",
      "0       58     2143    5       261         1     -1         0\n",
      "1       44       29    5       151         1     -1         0\n",
      "2       33        2    5        76         1     -1         0\n",
      "3       47     1506    5        92         1     -1         0\n",
      "4       33        1    5       198         1     -1         0\n",
      "...    ...      ...  ...       ...       ...    ...       ...\n",
      "45206   51      825   17       977         3     -1         0\n",
      "45207   71     1729   17       456         2     -1         0\n",
      "45208   72     5715   17      1127         5    184         3\n",
      "45209   57      668   17       508         4     -1         0\n",
      "45210   37     2971   17       361         2    188        11\n",
      "\n",
      "[45211 rows x 7 columns]\n",
      "File saved successfully!\n"
     ]
    }
   ],
   "source": [
    "#Now  exlcuding columns with dtypes object and then adding to new Dataframe in .csv file \n",
    "import os\n",
    "new_df = df.select_dtypes(exclude='object')\n",
    "print(new_df)\n",
    "\n",
    "# df.to_csv('output.csv', index=False)---reference\n",
    "\n",
    "new_df.to_csv('Datasets/banknumericdataa.csv',index=False)\n",
    "\n",
    "#if I want to check whether its saved or not \n",
    "file_path = 'Datasets/banknumericdataa.csv'\n",
    "\n",
    "if os.path.exists(file_path):\n",
    "    print(\"File saved successfully!\")\n",
    "else:\n",
    "    print(\"File not found.\")\n",
    "\n",
    "#now writing seleceted New Dataframe to another csv\n",
    "\n"
   ]
  },
  {
   "cell_type": "code",
   "execution_count": 37,
   "id": "81b82527",
   "metadata": {},
   "outputs": [
    {
     "name": "stdout",
     "output_type": "stream",
     "text": [
      "   age  balance  day  duration  campaign  pdays  previous\n",
      "0   58     2143    5       261         1     -1         0\n",
      "1   44       29    5       151         1     -1         0\n",
      "2   33        2    5        76         1     -1         0\n",
      "3   47     1506    5        92         1     -1         0\n",
      "4   33        1    5       198         1     -1         0\n",
      "printing all the statictics\n",
      "                age        balance           day      duration      campaign  \\\n",
      "count  45211.000000   45211.000000  45211.000000  45211.000000  45211.000000   \n",
      "mean      40.936210    1362.272058     15.806419    258.163080      2.763841   \n",
      "std       10.618762    3044.765829      8.322476    257.527812      3.098021   \n",
      "min       18.000000   -8019.000000      1.000000      0.000000      1.000000   \n",
      "25%       33.000000      72.000000      8.000000    103.000000      1.000000   \n",
      "50%       39.000000     448.000000     16.000000    180.000000      2.000000   \n",
      "75%       48.000000    1428.000000     21.000000    319.000000      3.000000   \n",
      "max       95.000000  102127.000000     31.000000   4918.000000     63.000000   \n",
      "\n",
      "              pdays      previous  \n",
      "count  45211.000000  45211.000000  \n",
      "mean      40.197828      0.580323  \n",
      "std      100.128746      2.303441  \n",
      "min       -1.000000      0.000000  \n",
      "25%       -1.000000      0.000000  \n",
      "50%       -1.000000      0.000000  \n",
      "75%       -1.000000      0.000000  \n",
      "max      871.000000    275.000000  \n"
     ]
    }
   ],
   "source": [
    "#FInding summary statistics of new csv file (banknumericdata.csv)\n",
    "\n",
    "file_path = \"Datasets/banknumericdata.csv\" \n",
    "df = pd.read_csv(file_path)\n",
    "print(df.head())\n",
    "\n",
    "\n",
    "print(\"printing all the statistics)mean-median max quartile and everything\")\n",
    "summary_stats = df.describe()\n",
    "print(summary_stats)"
   ]
  },
  {
   "cell_type": "markdown",
   "id": "b6ecad8e",
   "metadata": {},
   "source": [
    "# PROBLEM 2 WORKING WITH MEDICAL_STUDENT.CSV --dATA IMPUTATIONS"
   ]
  },
  {
   "cell_type": "code",
   "execution_count": 2,
   "id": "9347ab4d",
   "metadata": {},
   "outputs": [
    {
     "name": "stdout",
     "output_type": "stream",
     "text": [
      "   Student ID   Age  Gender      Height     Weight Blood Type        BMI  \\\n",
      "0         1.0  18.0  Female  161.777924  72.354947          O  27.645835   \n",
      "1         2.0   NaN    Male  152.069157  47.630941          B        NaN   \n",
      "2         3.0  32.0  Female  182.537664  55.741083          A  16.729017   \n",
      "3         NaN  30.0    Male  182.112867  63.332207          B  19.096042   \n",
      "4         5.0  23.0  Female         NaN  46.234173          O        NaN   \n",
      "\n",
      "   Temperature  Heart Rate  Blood Pressure  Cholesterol Diabetes Smoking  \n",
      "0          NaN        95.0           109.0        203.0       No     NaN  \n",
      "1    98.714977        93.0           104.0        163.0       No      No  \n",
      "2    98.260293        76.0           130.0        216.0      Yes      No  \n",
      "3    98.839605        99.0           112.0        141.0       No     Yes  \n",
      "4    98.480008        95.0             NaN        231.0       No      No  \n"
     ]
    }
   ],
   "source": [
    "#loading the file\n",
    "import pandas as pd\n",
    "filepath=\"Datasets/medical_students_dataset.csv\"\n",
    "df=pd.read_csv(filepath)\n",
    "\n",
    "print(df.head())"
   ]
  },
  {
   "cell_type": "code",
   "execution_count": 3,
   "id": "406adb7d",
   "metadata": {},
   "outputs": [
    {
     "name": "stdout",
     "output_type": "stream",
     "text": [
      "<class 'pandas.core.frame.DataFrame'>\n",
      "RangeIndex: 200000 entries, 0 to 199999\n",
      "Data columns (total 13 columns):\n",
      " #   Column          Non-Null Count   Dtype  \n",
      "---  ------          --------------   -----  \n",
      " 0   Student ID      180000 non-null  float64\n",
      " 1   Age             180000 non-null  float64\n",
      " 2   Gender          180000 non-null  object \n",
      " 3   Height          180000 non-null  float64\n",
      " 4   Weight          180000 non-null  float64\n",
      " 5   Blood Type      180000 non-null  object \n",
      " 6   BMI             180000 non-null  float64\n",
      " 7   Temperature     180000 non-null  float64\n",
      " 8   Heart Rate      180000 non-null  float64\n",
      " 9   Blood Pressure  180000 non-null  float64\n",
      " 10  Cholesterol     180000 non-null  float64\n",
      " 11  Diabetes        180000 non-null  object \n",
      " 12  Smoking         180000 non-null  object \n",
      "dtypes: float64(9), object(4)\n",
      "memory usage: 19.8+ MB\n"
     ]
    }
   ],
   "source": [
    "#using .info() method to check the columns with missing values (null)\n",
    "df.info()"
   ]
  },
  {
   "cell_type": "code",
   "execution_count": 4,
   "id": "37f385af",
   "metadata": {},
   "outputs": [
    {
     "name": "stdout",
     "output_type": "stream",
     "text": [
      "Student ID        20000\n",
      "Age               20000\n",
      "Gender            20000\n",
      "Height            20000\n",
      "Weight            20000\n",
      "Blood Type        20000\n",
      "BMI               20000\n",
      "Temperature       20000\n",
      "Heart Rate        20000\n",
      "Blood Pressure    20000\n",
      "Cholesterol       20000\n",
      "Diabetes          20000\n",
      "Smoking           20000\n",
      "dtype: int64\n",
      "<class 'pandas.core.series.Series'>\n",
      "using condition where sum is greater than 0\n",
      "Student ID        20000\n",
      "Age               20000\n",
      "Gender            20000\n",
      "Height            20000\n",
      "Weight            20000\n",
      "Blood Type        20000\n",
      "BMI               20000\n",
      "Temperature       20000\n",
      "Heart Rate        20000\n",
      "Blood Pressure    20000\n",
      "Cholesterol       20000\n",
      "Diabetes          20000\n",
      "Smoking           20000\n",
      "dtype: int64\n"
     ]
    }
   ],
   "source": [
    "missing_values = df.isnull().sum()\n",
    "print(missing_values)\n",
    "print(type(missing_values))\n",
    "print(\"using condition where sum is greater than 0\")\n",
    "columns_with_missing_values = missing_values[missing_values > 0]\n",
    "print(columns_with_missing_values)\n",
    "\n",
    "\n"
   ]
  },
  {
   "cell_type": "markdown",
   "id": "e06c4399",
   "metadata": {},
   "source": [
    "while filling missing values on the above columns I think  it depends upon what kind of data it is.\n",
    "its necessary to identify whether its  numerical or categorial data .\n",
    "for numerical datas --> methods like mean,median mode can be used \n",
    "for categorial data----> forward fill and backward fill would be the great option \n",
    "\n",
    "so first lets identify the type of data and then make decision\n",
    "\n"
   ]
  },
  {
   "cell_type": "code",
   "execution_count": 5,
   "id": "1a2782bd",
   "metadata": {},
   "outputs": [
    {
     "name": "stdout",
     "output_type": "stream",
     "text": [
      "Index(['Student ID', 'Age', 'Gender', 'Height', 'Weight', 'Blood Type', 'BMI',\n",
      "       'Temperature', 'Heart Rate', 'Blood Pressure', 'Cholesterol',\n",
      "       'Diabetes', 'Smoking'],\n",
      "      dtype='object')\n"
     ]
    }
   ],
   "source": [
    "columns_with_missing_values = df.isnull().sum()[df.isnull().sum() > 0].index\n",
    "print(columns_with_missing_values)\n"
   ]
  },
  {
   "cell_type": "code",
   "execution_count": 6,
   "id": "92896443",
   "metadata": {},
   "outputs": [
    {
     "name": "stdout",
     "output_type": "stream",
     "text": [
      "Numerical columns Index(['Student ID', 'Age', 'Height', 'Weight', 'BMI', 'Temperature',\n",
      "       'Heart Rate', 'Blood Pressure', 'Cholesterol'],\n",
      "      dtype='object')\n",
      "categorical_columns Index(['Gender', 'Blood Type', 'Diabetes', 'Smoking'], dtype='object')\n",
      "           Student ID        Age  Gender      Height     Weight Blood Type  \\\n",
      "0            1.000000  18.000000  Female  161.777924  72.354947          O   \n",
      "1            2.000000  26.021561    Male  152.069157  47.630941          B   \n",
      "2            3.000000  32.000000  Female  182.537664  55.741083          A   \n",
      "3        49974.042078  30.000000    Male  182.112867  63.332207          B   \n",
      "4            5.000000  23.000000  Female  174.947103  46.234173          O   \n",
      "...               ...        ...     ...         ...        ...        ...   \n",
      "199995   49974.042078  24.000000    Male  176.503260  95.756997          B   \n",
      "199996   99997.000000  29.000000  Female  163.917675  45.225194          B   \n",
      "199997   99998.000000  34.000000  Female  174.947103  99.648914          B   \n",
      "199998   99999.000000  30.000000  Female  156.446944  50.142824          A   \n",
      "199999  100000.000000  20.000000  Female  153.927410  99.928405          O   \n",
      "\n",
      "              BMI  Temperature  Heart Rate  Blood Pressure  Cholesterol  \\\n",
      "0       27.645835    98.600948        95.0      109.000000        203.0   \n",
      "1       23.338869    98.714977        93.0      104.000000        163.0   \n",
      "2       16.729017    98.260293        76.0      130.000000        216.0   \n",
      "3       19.096042    98.839605        99.0      112.000000        141.0   \n",
      "4       23.338869    98.480008        95.0      114.558033        231.0   \n",
      "...           ...          ...         ...             ...          ...   \n",
      "199995  30.737254    99.170685        65.0      121.000000        130.0   \n",
      "199996  16.831734    97.865785        62.0      125.000000        198.0   \n",
      "199997  33.189303    98.768210        60.0       90.000000        154.0   \n",
      "199998  20.486823    98.994212        61.0      106.000000        225.0   \n",
      "199999  42.175189    98.595817        95.0      133.000000        132.0   \n",
      "\n",
      "       Diabetes Smoking  \n",
      "0            No      No  \n",
      "1            No      No  \n",
      "2           Yes      No  \n",
      "3            No     Yes  \n",
      "4            No      No  \n",
      "...         ...     ...  \n",
      "199995       No      No  \n",
      "199996       No     Yes  \n",
      "199997       No      No  \n",
      "199998       No      No  \n",
      "199999       No      No  \n",
      "\n",
      "[200000 rows x 13 columns]\n"
     ]
    }
   ],
   "source": [
    "# Separate columns based on their data type\n",
    "numerical_columns = df[columns_with_missing_values].select_dtypes(include='number').columns\n",
    "categorical_columns = df[columns_with_missing_values].select_dtypes(include='object').columns\n",
    "print(\"Numerical columns\",numerical_columns)\n",
    "print(\"categorical_columns\",categorical_columns)\n",
    "\n",
    "\n",
    "\n",
    "\n",
    "for col in numerical_columns:\n",
    "    df[col].fillna(df[col].mean(), inplace=True)\n",
    "\n",
    "\n",
    "for col in categorical_columns:\n",
    "    df[col].fillna(df[col].mode()[0], inplace=True)\n",
    "\n",
    "\n",
    "print(df)"
   ]
  },
  {
   "cell_type": "code",
   "execution_count": 9,
   "id": "4959af44",
   "metadata": {},
   "outputs": [
    {
     "name": "stdout",
     "output_type": "stream",
     "text": [
      "now checking missing values has filled or not\n",
      "Student ID        0\n",
      "Age               0\n",
      "Gender            0\n",
      "Height            0\n",
      "Weight            0\n",
      "Blood Type        0\n",
      "BMI               0\n",
      "Temperature       0\n",
      "Heart Rate        0\n",
      "Blood Pressure    0\n",
      "Cholesterol       0\n",
      "Diabetes          0\n",
      "Smoking           0\n",
      "dtype: int64\n"
     ]
    }
   ],
   "source": [
    "print(\"now checking missing values has filled or not\")\n",
    "missing_values = df.isnull().sum()\n",
    "print(missing_values)"
   ]
  },
  {
   "cell_type": "code",
   "execution_count": 10,
   "id": "25f80b56",
   "metadata": {},
   "outputs": [
    {
     "name": "stdout",
     "output_type": "stream",
     "text": [
      "Number of duplicate rows: 12572\n"
     ]
    }
   ],
   "source": [
    "#checking duplicates\n",
    "duplicate_count = df.duplicated().sum()\n",
    "print(f\"Number of duplicate rows: {duplicate_count}\")"
   ]
  },
  {
   "cell_type": "code",
   "execution_count": 11,
   "id": "8e13081d",
   "metadata": {},
   "outputs": [
    {
     "name": "stdout",
     "output_type": "stream",
     "text": [
      "Duplicate rows:\n",
      "        Student ID   Age  Gender      Height     Weight Blood Type        BMI  \\\n",
      "100007         8.0  28.0    Male  186.489402  52.389752         AB  15.063921   \n",
      "100011        12.0  34.0  Female  182.416302  76.371050         AB  22.950992   \n",
      "100018        19.0  31.0  Female  158.790160  46.829849         AB  18.572723   \n",
      "100022        23.0  29.0  Female  179.909041  90.679436         AB  28.015787   \n",
      "100023        24.0  18.0    Male  174.947103  52.521560         AB  13.570402   \n",
      "...            ...   ...     ...         ...        ...        ...        ...   \n",
      "199965     99966.0  22.0  Female  166.562901  48.684146         AB  17.548137   \n",
      "199973     99974.0  25.0  Female  156.297842  90.690186          B  37.123963   \n",
      "199983     99984.0  26.0    Male  185.126825  95.531874          O  27.874661   \n",
      "199985     99986.0  23.0  Female  162.884951  82.485778          B  31.089745   \n",
      "199988     99989.0  28.0    Male  160.443722  55.688170          O  21.633037   \n",
      "\n",
      "        Temperature  Heart Rate  Blood Pressure  Cholesterol Diabetes Smoking  \n",
      "100007    98.227788        85.0           123.0        128.0       No      No  \n",
      "100011    98.118274        86.0            97.0        247.0       No      No  \n",
      "100018    98.784709        92.0           102.0        172.0       No      No  \n",
      "100022    98.782269        81.0           108.0        227.0       No     Yes  \n",
      "100023    98.215090        60.0           132.0        217.0       No      No  \n",
      "...             ...         ...             ...          ...      ...     ...  \n",
      "199965    98.776134        95.0           109.0        152.0      Yes      No  \n",
      "199973    98.664591        70.0           132.0        164.0      Yes      No  \n",
      "199983    98.824281        75.0           103.0        174.0       No      No  \n",
      "199985    98.852347        65.0            94.0        188.0       No     Yes  \n",
      "199988    98.487560        70.0           128.0        125.0       No      No  \n",
      "\n",
      "[12572 rows x 13 columns]\n"
     ]
    }
   ],
   "source": [
    "duplicates = df[df.duplicated()]\n",
    "print(\"Duplicate rows:\")\n",
    "print(duplicates)\n"
   ]
  },
  {
   "cell_type": "code",
   "execution_count": 14,
   "id": "dd6ed7f5",
   "metadata": {},
   "outputs": [
    {
     "name": "stdout",
     "output_type": "stream",
     "text": [
      "Number of duplicate rows: 0\n"
     ]
    }
   ],
   "source": [
    "\n",
    "df.drop_duplicates(keep='last', inplace=True)\n",
    "duplicate_count = df.duplicated().sum()\n",
    "print(f\"Number of duplicate rows: {duplicate_count}\")\n",
    "\n",
    "#this is how all the duplicate roes has been deleted "
   ]
  },
  {
   "cell_type": "markdown",
   "id": "7f93da3b",
   "metadata": {},
   "source": [
    "# Problem 3 Data cleaning and Transformation"
   ]
  },
  {
   "cell_type": "code",
   "execution_count": 1,
   "id": "8432d857",
   "metadata": {},
   "outputs": [
    {
     "name": "stdout",
     "output_type": "stream",
     "text": [
      "                                                 Name  Pclass     Sex   Age  \\\n",
      "1   Cumings, Mrs. John Bradley (Florence Briggs Th...       1  female  38.0   \n",
      "3        Futrelle, Mrs. Jacques Heath (Lily May Peel)       1  female  35.0   \n",
      "6                             McCarthy, Mr. Timothy J       1    male  54.0   \n",
      "11                           Bonnell, Miss. Elizabeth       1  female  58.0   \n",
      "23                       Sloper, Mr. William Thompson       1    male  28.0   \n",
      "\n",
      "       Fare  Survived  \n",
      "1   71.2833         1  \n",
      "3   53.1000         1  \n",
      "6   51.8625         0  \n",
      "11  26.5500         1  \n",
      "23  35.5000         1  \n"
     ]
    }
   ],
   "source": [
    "import pandas as pd\n",
    "\n",
    "df = pd.read_csv('Datasets/titanic_dataset.csv')\n",
    "\n",
    "subset_df = df[['Name', 'Pclass', 'Sex', 'Age', 'Fare', 'Survived']] \n",
    "\n",
    "first_class_df = subset_df[subset_df['Pclass'] == 1]\n",
    "\n",
    "print(first_class_df.head())\n"
   ]
  },
  {
   "cell_type": "code",
   "execution_count": 27,
   "id": "49523500",
   "metadata": {},
   "outputs": [
    {
     "name": "stdout",
     "output_type": "stream",
     "text": [
      "Statistics for First-Class Passengers' Fare:\n",
      "Mean Fare: 84.1546875\n",
      "Median Fare: 60.287499999999994\n",
      "Maximum Fare: 512.3292\n",
      "Minimum Fare: 0.0\n"
     ]
    }
   ],
   "source": [
    "\n",
    "mean_fare = first_class_df['Fare'].mean()\n",
    "median_fare = first_class_df['Fare'].median()\n",
    "max_fare = first_class_df['Fare'].max()\n",
    "min_fare = first_class_df['Fare'].min()\n",
    "\n",
    "\n",
    "print(\"Statistics for First-Class Passengers' Fare:\")\n",
    "print(f\"Mean Fare: {mean_fare}\")\n",
    "print(f\"Median Fare: {median_fare}\")\n",
    "print(f\"Maximum Fare: {max_fare}\")\n",
    "print(f\"Minimum Fare: {min_fare}\")"
   ]
  },
  {
   "cell_type": "code",
   "execution_count": 28,
   "id": "601d4676",
   "metadata": {},
   "outputs": [
    {
     "name": "stdout",
     "output_type": "stream",
     "text": [
      "Number of null values in the 'Age' column: 177\n",
      "Number of null values in 'Age' after dropping: 0\n",
      "Updated DataFrame shape: (714, 6)\n"
     ]
    }
   ],
   "source": [
    "null_count = subset_df['Age'].isnull().sum()   \n",
    "\n",
    "#checking if specific column is null or not using df['Age'].isnull().sum()---bizay  \n",
    "\n",
    "\n",
    "print(f\"Number of null values in the 'Age' column: {null_count}\")\n",
    "\n",
    "subset_df = subset_df.dropna(subset=['Age'])   \n",
    "\n",
    "null_count_after = subset_df['Age'].isnull().sum()\n",
    "print(f\"Number of null values in 'Age' after dropping: {null_count_after}\")\n",
    "\n",
    "print(f\"Updated DataFrame shape: {subset_df.shape}\")\n"
   ]
  },
  {
   "cell_type": "code",
   "execution_count": 2,
   "id": "9979aba0",
   "metadata": {},
   "outputs": [
    {
     "name": "stdout",
     "output_type": "stream",
     "text": [
      "   PassengerId  Survived  Pclass  \\\n",
      "0            1         0       3   \n",
      "1            2         1       1   \n",
      "2            3         1       3   \n",
      "3            4         1       1   \n",
      "4            5         0       3   \n",
      "\n",
      "                                                Name     Sex   Age  SibSp  \\\n",
      "0                            Braund, Mr. Owen Harris    male  22.0      1   \n",
      "1  Cumings, Mrs. John Bradley (Florence Briggs Th...  female  38.0      1   \n",
      "2                             Heikkinen, Miss. Laina  female  26.0      0   \n",
      "3       Futrelle, Mrs. Jacques Heath (Lily May Peel)  female  35.0      1   \n",
      "4                           Allen, Mr. William Henry    male  35.0      0   \n",
      "\n",
      "   Parch            Ticket     Fare Cabin  Embarked_C  Embarked_Q  Embarked_S  \n",
      "0      0         A/5 21171   7.2500   NaN           0           0           1  \n",
      "1      0          PC 17599  71.2833   C85           1           0           0  \n",
      "2      0  STON/O2. 3101282   7.9250   NaN           0           0           1  \n",
      "3      0            113803  53.1000  C123           0           0           1  \n",
      "4      0            373450   8.0500   NaN           0           0           1  \n"
     ]
    }
   ],
   "source": [
    "embarked_dummies = pd.get_dummies(df['Embarked'], prefix='Embarked')\n",
    "\n",
    "df = pd.concat([df, embarked_dummies], axis=1)\n",
    "\n",
    "df = df.drop('Embarked', axis=1)\n",
    "\n",
    "print(df.head())"
   ]
  },
  {
   "cell_type": "code",
   "execution_count": 31,
   "id": "7b789dbe",
   "metadata": {},
   "outputs": [
    {
     "name": "stdout",
     "output_type": "stream",
     "text": [
      "Sex\n",
      "female    0.742038\n",
      "male      0.188908\n",
      "Name: Survived, dtype: float64\n"
     ]
    },
    {
     "data": {
      "image/png": "[encoded data removed]",
      "text/plain": [
       "<Figure size 800x600 with 1 Axes>"
      ]
     },
     "metadata": {},
     "output_type": "display_data"
    }
   ],
   "source": [
    "\n",
    "import matplotlib.pyplot as plt\n",
    "import seaborn as sns\n",
    "\n",
    "\n",
    "mean_survival_by_gender = df.groupby('Sex')['Survived'].mean()\n",
    "print(mean_survival_by_gender)\n",
    "\n",
    "\n",
    "plt.figure(figsize=(8, 6))\n",
    "\n",
    "\n",
    "sns.barplot(x='Sex', y='Survived', data=df, errorbar=None, palette='viridis')\n",
    "\n",
    "\n",
    "# Add titles and labels\n",
    "plt.title('Mean Survival Rate by Gender', fontsize=14)\n",
    "plt.xlabel('Gender', fontsize=12)\n",
    "plt.ylabel('Mean Survival Rate', fontsize=12)\n",
    "plt.ylim(0, 1)  # Survival rate ranges from 0 to 1\n",
    "\n",
    "plt.show()\n"
   ]
  },
  {
   "cell_type": "code",
   "execution_count": 35,
   "id": "959dafb4",
   "metadata": {},
   "outputs": [
    {
     "data": {
      "image/png": "[encoded data removed]",
      "text/plain": [
       "<Figure size 1000x600 with 1 Axes>"
      ]
     },
     "metadata": {},
     "output_type": "display_data"
    }
   ],
   "source": [
    "df = pd.read_csv('Datasets/titanic_dataset.csv')\n",
    "\n",
    "df['Embarked'].fillna('Unknown', inplace=True)\n",
    "\n",
    "\n",
    "plt.figure(figsize=(10, 6))\n",
    "\n",
    "sns.barplot(\n",
    "    x='Sex',\n",
    "    y='Survived',\n",
    "    hue='Embarked',\n",
    "    data=df,\n",
    "    errorbar=None,  \n",
    "    palette='viridis'\n",
    ")\n",
    "\n",
    "\n",
    "plt.title('Survival Rate by Gender and Port of Embarkation', fontsize=14)\n",
    "plt.xlabel('Gender', fontsize=12)\n",
    "plt.ylabel('Survival Rate', fontsize=12)\n",
    "plt.ylim(0, 1)  # Survival rates range from 0 to 1\n",
    "plt.legend(title='Port of Embarkation', fontsize=10)\n",
    "\n",
    "# Display the plot\n",
    "plt.show()"
   ]
  },
  {
   "cell_type": "code",
   "execution_count": null,
   "id": "78f9c5cd",
   "metadata": {},
   "outputs": [],
   "source": []
  },
  {
   "cell_type": "code",
   "execution_count": null,
   "id": "a8541c89",
   "metadata": {},
   "outputs": [],
   "source": []
  },
  {
   "cell_type": "code",
   "execution_count": null,
   "id": "d9949ae5",
   "metadata": {},
   "outputs": [],
   "source": []
  }
 ],
 "metadata": {
  "kernelspec": {
   "display_name": "Python 3 (ipykernel)",
   "language": "python",
   "name": "python3"
  },
  "language_info": {
   "codemirror_mode": {
    "name": "ipython",
    "version": 3
   },
   "file_extension": ".py",
   "mimetype": "text/x-python",
   "name": "python",
   "nbconvert_exporter": "python",
   "pygments_lexer": "ipython3",
   "version": "3.10.9"
  }
 },
 "nbformat": 4,
 "nbformat_minor": 5
}
