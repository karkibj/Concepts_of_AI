{
 "cells": [
  {
   "cell_type": "code",
   "execution_count": 8,
   "id": "3611fefd",
   "metadata": {},
   "outputs": [
    {
     "name": "stdout",
     "output_type": "stream",
     "text": [
      "0    10\n",
      "1    20\n",
      "2    30\n",
      "3    40\n",
      "dtype: int64\n",
      "RangeIndex(start=0, stop=4, step=1)\n",
      "a    10\n",
      "b    20\n",
      "c    30\n",
      "d    40\n",
      "dtype: int64\n",
      "Index(['a', 'b', 'c', 'd'], dtype='object')\n"
     ]
    }
   ],
   "source": [
    "import pandas as pd\n",
    "\n",
    "data = [10, 20, 30, 40]\n",
    "series = pd.Series(data)\n",
    "print(series)\n",
    "print(series.index)\n",
    "\n",
    "\n",
    "series = pd.Series(data, index=['a', 'b', 'c', 'd'])\n",
    "print(series)\n",
    "print(series.index)\n",
    "\n"
   ]
  },
  {
   "cell_type": "code",
   "execution_count": 30,
   "id": "b9fd84df",
   "metadata": {},
   "outputs": [
    {
     "name": "stdout",
     "output_type": "stream",
     "text": [
      "DatetimeIndex(['2023-01-01', '2023-01-02', '2023-01-03'], dtype='datetime64[ns]', freq='D')\n",
      "2023-01-01    10\n",
      "2023-01-02    20\n",
      "2023-01-03    30\n",
      "Freq: D, dtype: int64\n",
      "DatetimeIndex(['2023-01-01', '2023-01-02', '2023-01-03'], dtype='datetime64[ns]', freq='D')\n",
      "x    10\n",
      "y    20\n",
      "z    30\n",
      "dtype: int64\n",
      "      A  B\n",
      "row1  1  3\n",
      "row2  2  4\n",
      "row3  7  5\n",
      "after making changes\n",
      "   index  A  B\n",
      "0  row1  1  3\n",
      "1  row2  2  4\n",
      "2  row3  7  5\n"
     ]
    }
   ],
   "source": [
    "#datestimeindex\n",
    "dates=pd.date_range('2023-01-01',periods=3)\n",
    "print(dates)\n",
    "series =pd.Series([10,20,30],index=dates)\n",
    "print(series)\n",
    "print(series.index)\n",
    "series.index=['x','y','z']\n",
    "print(series)\n",
    "\n",
    "#we can change index for any series\n",
    "\n",
    "\n",
    "df=pd.DataFrame({'A':[1,2,7],'B':[3,4,5]},index=['row1','row2','row3'])\n",
    "print(df)\n",
    "\n",
    "#all the categoires needs to have equal number of elements\n",
    "df.reset_index(inplace=True)\n",
    "print(\"after making changes\\n\",df)\n",
    "\n",
    "#this will convert current index to another index column and adds another indexing\n",
    "\n"
   ]
  },
  {
   "cell_type": "code",
   "execution_count": 37,
   "id": "cad1fee8",
   "metadata": {},
   "outputs": [
    {
     "name": "stdout",
     "output_type": "stream",
     "text": [
      "        Sharayan       Aananda\n",
      "0    I liked it.  Pretty good.\n",
      "1  It was awful.        Bland.\n",
      "                Bizay       Aasshish\n",
      "Product A  I liked it.  Pretty good.\n",
      "Product B  I liked it.        Bland.\n"
     ]
    }
   ],
   "source": [
    "\n",
    "# Style-1\n",
    "df1 = pd.DataFrame({\n",
    "    'Sharayan': ['I liked it.', 'It was awful.'],\n",
    "    'Aananda': ['Pretty good.', 'Bland.']\n",
    "})\n",
    "print(df1)\n",
    "\n",
    "# Style-2 with custom index\n",
    "df2 = pd.DataFrame({\n",
    "    'Bizay ': ['I liked it.'],\n",
    "    'Aasshish': ['Pretty good.', 'Bland.']\n",
    "}, index=['Product A', 'Product B'])\n",
    "print(df2)\n",
    "\n",
    "#missing any elements will filled by previous values \n"
   ]
  },
  {
   "cell_type": "code",
   "execution_count": 40,
   "id": "0ee3948c",
   "metadata": {},
   "outputs": [],
   "source": [
    "#Writing dataFrames to csv \n",
    "\n",
    "# Importing Data from file\n",
    "import pandas as pd\n",
    "\n",
    "# Creating a DataFrame\n",
    "data = {\n",
    "    'Name': ['Alice', 'Bob', 'Charlie'],\n",
    "    'City': ['New York', 'San Francisco', 'Los Angeles']\n",
    "}\n",
    "df = pd.DataFrame(data)\n",
    "\n",
    "# Writing DataFrame to CSV\n",
    "df.to_csv('output.csv', index=False)\n",
    "\n",
    "# Above code while writing to CSV will genereate a CSV file by itself \n"
   ]
  },
  {
   "cell_type": "code",
   "execution_count": 42,
   "id": "64c5663a",
   "metadata": {},
   "outputs": [
    {
     "name": "stdout",
     "output_type": "stream",
     "text": [
      "### First Two Rows ###\n",
      "\n",
      "    Name  Age  Salary\n",
      "0  Alice   25   50000\n",
      "1    Bob   30   60000\n",
      "\n",
      "\n",
      "### Last Row ###\n",
      "\n",
      "      Name  Age  Salary\n",
      "2  Charlie   35   70000\n",
      "\n",
      "\n",
      "### DataFrame Information ###\n",
      "\n",
      "<class 'pandas.core.frame.DataFrame'>\n",
      "RangeIndex: 3 entries, 0 to 2\n",
      "Data columns (total 3 columns):\n",
      " #   Column  Non-Null Count  Dtype \n",
      "---  ------  --------------  ----- \n",
      " 0   Name    3 non-null      object\n",
      " 1   Age     3 non-null      int64 \n",
      " 2   Salary  3 non-null      int64 \n",
      "dtypes: int64(2), object(1)\n",
      "memory usage: 200.0+ bytes\n",
      "\n",
      "\n",
      "### Summary Statistics ###\n",
      "\n",
      "        Age   Salary\n",
      "count   3.0      3.0\n",
      "mean   30.0  60000.0\n",
      "std     5.0  10000.0\n",
      "min    25.0  50000.0\n",
      "25%    27.5  55000.0\n",
      "50%    30.0  60000.0\n",
      "75%    32.5  65000.0\n",
      "max    35.0  70000.0\n",
      "\n",
      "\n",
      "### DataFrame Dimensions ###\n",
      "\n",
      "The DataFrame has 3 rows and 3 columns.\n",
      "\n",
      "\n",
      "### Age Column ###\n",
      "\n",
      "0    25\n",
      "1    30\n",
      "2    35\n",
      "Name: Age, dtype: int64\n",
      "\n",
      "\n",
      "### First Row by Numerical Index ###\n",
      "\n",
      "Name      Alice\n",
      "Age          25\n",
      "Salary    50000\n",
      "Name: 0, dtype: object\n",
      "\n",
      "\n",
      "### Rows Where Age > 30 ###\n",
      "\n",
      "      Name  Age  Salary\n",
      "2  Charlie   35   70000\n",
      "\n",
      "\n"
     ]
    }
   ],
   "source": [
    "import pandas as pd\n",
    "\n",
    "# Sample DataFrame\n",
    "data = {\n",
    "    'Name': ['Alice', 'Bob', 'Charlie'],\n",
    "    'Age': [25, 30, 35],\n",
    "    'Salary': [50000, 60000, 70000]\n",
    "}\n",
    "df = pd.DataFrame(data)\n",
    "\n",
    "# View the first two rows\n",
    "print(\"### First Two Rows ###\\n\")\n",
    "print(df.head(2))\n",
    "print(\"\\n\")\n",
    "\n",
    "# View the last row\n",
    "print(\"### Last Row ###\\n\")\n",
    "print(df.tail(1))\n",
    "print(\"\\n\")\n",
    "\n",
    "# DataFrame information\n",
    "print(\"### DataFrame Information ###\\n\")\n",
    "df.info()\n",
    "print(\"\\n\")\n",
    "\n",
    "# Summary statistics\n",
    "print(\"### Summary Statistics ###\\n\")\n",
    "print(df.describe())\n",
    "print(\"\\n\")\n",
    "\n",
    "# Check dimensions of the DataFrame\n",
    "print(\"### DataFrame Dimensions ###\\n\")\n",
    "print(f\"The DataFrame has {df.shape[0]} rows and {df.shape[1]} columns.\")\n",
    "print(\"\\n\")\n",
    "\n",
    "# Access the 'Age' column\n",
    "print(\"### Age Column ###\\n\")\n",
    "print(df['Age'])\n",
    "print(\"\\n\")\n",
    "\n",
    "# Select rows by numerical index\n",
    "print(\"### First Row by Numerical Index ###\\n\")\n",
    "print(df.iloc[0])\n",
    "print(\"\\n\")\n",
    "\n",
    "# Select rows by condition\n",
    "print(\"### Rows Where Age > 30 ###\\n\")\n",
    "print(df.loc[df['Age'] > 30])\n",
    "print(\"\\n\")\n"
   ]
  },
  {
   "cell_type": "code",
   "execution_count": 49,
   "id": "57e6557b",
   "metadata": {},
   "outputs": [
    {
     "name": "stdout",
     "output_type": "stream",
     "text": [
      "File not found. Please check the path.\n"
     ]
    }
   ],
   "source": [
    "import pandas as pd\n",
    "import numpy as np\n",
    "import os\n",
    "\n",
    "# Define the relative file path\n",
    "file_path = 'Datasets/bank.csv'\n",
    "\n",
    "# Check if the file exists\n",
    "if os.path.exists(file_path):\n",
    "    # Load the dataset from CSV file\n",
    "    bank_df = pd.read_csv(file_path)\n",
    "    \n",
    "    # Introduce missing values randomly\n",
    "    np.random.seed(42)\n",
    "    mask = np.random.rand(*bank_df.shape) < 0.1  # 10% of the values will be set to NaN\n",
    "    bank_df[mask] = np.nan\n",
    "\n",
    "    print(\"Missing Values in Bank Dataset:\")\n",
    "    print(bank_df.isnull().sum())  # Display the count of missing values in each column\n",
    "\n",
    "    # Filling missing values using different techniques\n",
    "    bank_df_ffill = bank_df.ffill()  # Forward fill\n",
    "    bank_df_mean = bank_df.fillna(bank_df.mean(numeric_only=True))  # Fill with mean\n",
    "    bank_df_median = bank_df.fillna(bank_df.median(numeric_only=True))  # Fill with median\n",
    "    bank_df_zero = bank_df.fillna(0)  # Fill with zero\n",
    "\n",
    "    # Expand the DataFrame with filled columns\n",
    "    bank_df_expanded = pd.concat(\n",
    "        [\n",
    "            bank_df,\n",
    "            bank_df_ffill.add_suffix('_ffill'),\n",
    "            bank_df_mean.add_suffix('_mean'),\n",
    "            bank_df_median.add_suffix('_median'),\n",
    "            bank_df_zero.add_suffix('_zero')\n",
    "        ],\n",
    "        axis=1\n",
    "    )\n",
    "\n",
    "    # Display the head of the expanded DataFrame\n",
    "    print(\"\\nDataset after Filling Missing Values:\")\n",
    "    print(bank_df_expanded.head())\n",
    "\n",
    "else:\n",
    "    print(\"File not found. Please check the path.\")\n"
   ]
  },
  {
   "cell_type": "code",
   "execution_count": 4,
   "id": "d6453274",
   "metadata": {},
   "outputs": [
    {
     "name": "stdout",
     "output_type": "stream",
     "text": [
      "      Name  Age\n",
      "0  Alice     25\n",
      "1      Bob   30\n",
      "After removing white spaces \n",
      "     Name  Age\n",
      "0  Alice   25\n",
      "1    Bob   30\n"
     ]
    }
   ],
   "source": [
    "#triming white spaces \n",
    "import pandas as pd\n",
    "df=pd.DataFrame({'Name':['Alice  ','Bob'],'Age':[25,30]})\n",
    "print(df)\n",
    "\n",
    "#now removing white spaces \n",
    "df['Name']=df['Name'].str.strip()\n",
    "\n",
    "print(\"After removing white spaces \\n\",df)\n"
   ]
  },
  {
   "cell_type": "code",
   "execution_count": 7,
   "id": "cc06f22b",
   "metadata": {},
   "outputs": [
    {
     "name": "stdout",
     "output_type": "stream",
     "text": [
      "Before changing datatype\n",
      "   Age\n",
      "0  25\n",
      "1  30\n",
      "2  35\n",
      "After change\n",
      "   Age\n",
      "0  25\n",
      "1  30\n",
      "2  35\n"
     ]
    }
   ],
   "source": [
    "f=pd.DataFrame({'Age':['25','30','35']})\n",
    "print(\"Before changing datatype\\n\",f)\n",
    "df['Age']=df['Age'].astype(int)\n",
    "print(\"After change\\n\",f)"
   ]
  },
  {
   "cell_type": "code",
   "execution_count": 9,
   "id": "9cb9f077",
   "metadata": {},
   "outputs": [
    {
     "name": "stdout",
     "output_type": "stream",
     "text": [
      "Before changing column names:\n",
      "     Name  Age\n",
      "0  Alice   25\n",
      "1    Bob   30\n",
      "\n",
      "After changing column names:\n",
      "   FullName  Years\n",
      "0    Alice     25\n",
      "1      Bob     30\n"
     ]
    }
   ],
   "source": [
    "import pandas as pd\n",
    "\n",
    "# Create a DataFrame\n",
    "df = pd.DataFrame({'Name': ['Alice', 'Bob'], 'Age': [25, 30]})\n",
    "print(\"Before changing column names:\\n\", df)\n",
    "\n",
    "# Rename columns\n",
    "df = df.rename(columns={'Name': 'FullName', 'Age': 'Years'})\n",
    "print(\"\\nAfter changing column names:\\n\", df)\n"
   ]
  },
  {
   "cell_type": "code",
   "execution_count": 12,
   "id": "bb303b96",
   "metadata": {},
   "outputs": [
    {
     "name": "stdout",
     "output_type": "stream",
     "text": [
      "    Name  Age\n",
      "0  Alice   25\n",
      "1    Bob   30\n",
      "2  Alice   45\n"
     ]
    }
   ],
   "source": [
    "import pandas as pd\n",
    "\n",
    "# Create a DataFrame\n",
    "df = pd.DataFrame({'Name': ['Alice', 'Bob', 'Alice'], 'Age': [25, 30, 45]})\n",
    "\n",
    "#ONLY REMOVES WHEN BOTH FIELDS AND VALUES ARE SAME---KARKI\n",
    "\n",
    "# Drop duplicate rows\n",
    "df = df.drop_duplicates()\n",
    "\n",
    "# Print the DataFrame after removing duplicates\n",
    "print(df)\n"
   ]
  },
  {
   "cell_type": "code",
   "execution_count": 19,
   "id": "f9dfa844",
   "metadata": {},
   "outputs": [
    {
     "name": "stdout",
     "output_type": "stream",
     "text": [
      "{'Date': ['2024-01-01', '2024-01-01', '2024-01-02', '2024-01-02'], 'City': ['Kathmandu', 'Pokhara', 'Kathmandu', 'Pokhara'], 'Temperature': [15, 18, 16, 19]}\n",
      "<class 'dict'>\n",
      "<class 'pandas.core.frame.DataFrame'>\n",
      "         Date       City  Temperature\n",
      "0  2024-01-01  Kathmandu           15\n",
      "1  2024-01-01    Pokhara           18\n",
      "2  2024-01-02  Kathmandu           16\n",
      "3  2024-01-02    Pokhara           19\n",
      "City        Kathmandu  Pokhara\n",
      "Date                          \n",
      "2024-01-01         15       18\n",
      "2024-01-02         16       19\n"
     ]
    }
   ],
   "source": [
    "import pandas as pd\n",
    "\n",
    "# ------------------Pivoting---------------------------------------\n",
    "# Sample DataFrame\n",
    "data = {\n",
    "    'Date': ['2024-01-01', '2024-01-01', '2024-01-02', '2024-01-02'],\n",
    "    'City': ['Kathmandu', 'Pokhara', 'Kathmandu', 'Pokhara'],\n",
    "    'Temperature': [15, 18, 16, 19]\n",
    "}\n",
    "\n",
    "print(data)\n",
    "print(type(data))\n",
    "df=pd.DataFrame(data)\n",
    "print(type(df))\n",
    "print(df)\n",
    "\n",
    "\n",
    "#Reshaping data to show cities as columns\n",
    "pivoted_df=df.pivot(index='Date',columns='City',values='Temperature')\n",
    "print(pivoted_df)"
   ]
  },
  {
   "cell_type": "code",
   "execution_count": 20,
   "id": "47154e8a",
   "metadata": {},
   "outputs": [
    {
     "name": "stdout",
     "output_type": "stream",
     "text": [
      "  Category  Category_values\n",
      "0      Low                1\n",
      "1   Medium                2\n",
      "2     High                3\n",
      "3      Low                1\n",
      "4     High                3\n"
     ]
    }
   ],
   "source": [
    "import pandas as pd\n",
    "\n",
    "# Sample DataFrame with ordinal categories\n",
    "df = pd.DataFrame({'Category': ['Low', 'Medium', 'High', 'Low', 'High']})\n",
    "\n",
    "# Ordinal encoding using map\n",
    "ordinal_mapping = {'Low': 1, 'Medium': 2, 'High': 3}\n",
    "df['Category_values'] = df['Category'].map(ordinal_mapping)\n",
    "\n",
    "print(df)\n"
   ]
  },
  {
   "cell_type": "code",
   "execution_count": 21,
   "id": "2e174147",
   "metadata": {},
   "outputs": [
    {
     "name": "stdout",
     "output_type": "stream",
     "text": [
      "Inner Join:\n",
      "   ID     Name  Score\n",
      "0   2      Bob     85\n",
      "1   3  Charlie     90\n",
      "\n",
      "Left Join:\n",
      "   ID     Name  Score\n",
      "0   1    Alice    NaN\n",
      "1   2      Bob   85.0\n",
      "2   3  Charlie   90.0\n",
      "\n",
      "Outer Join:\n",
      "   ID     Name  Score\n",
      "0   1    Alice    NaN\n",
      "1   2      Bob   85.0\n",
      "2   3  Charlie   90.0\n",
      "3   4      NaN   88.0\n"
     ]
    }
   ],
   "source": [
    "import pandas as pd\n",
    "\n",
    "# Sample DataFrames\n",
    "df1 = pd.DataFrame({'ID': [1, 2, 3], 'Name': ['Alice', 'Bob', 'Charlie']})\n",
    "df2 = pd.DataFrame({'ID': [2, 3, 4], 'Score': [85, 90, 88]})\n",
    "\n",
    "# Inner join\n",
    "inner_merged = pd.merge(df1, df2, on='ID', how='inner')\n",
    "print(\"Inner Join:\")\n",
    "print(inner_merged)\n",
    "\n",
    "# Left join\n",
    "left_merged = pd.merge(df1, df2, on='ID', how='left')\n",
    "print(\"\\nLeft Join:\")\n",
    "print(left_merged)\n",
    "\n",
    "# Outer join\n",
    "outer_merged = pd.merge(df1, df2, on='ID', how='outer')\n",
    "print(\"\\nOuter Join:\")\n",
    "print(outer_merged)\n"
   ]
  },
  {
   "cell_type": "code",
   "execution_count": null,
   "id": "49d75505",
   "metadata": {},
   "outputs": [],
   "source": []
  }
 ],
 "metadata": {
  "kernelspec": {
   "display_name": "Python 3 (ipykernel)",
   "language": "python",
   "name": "python3"
  },
  "language_info": {
   "codemirror_mode": {
    "name": "ipython",
    "version": 3
   },
   "file_extension": ".py",
   "mimetype": "text/x-python",
   "name": "python",
   "nbconvert_exporter": "python",
   "pygments_lexer": "ipython3",
   "version": "3.10.9"
  }
 },
 "nbformat": 4,
 "nbformat_minor": 5
}
