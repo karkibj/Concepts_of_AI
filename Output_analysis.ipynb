{
 "cells": [
  {
   "cell_type": "code",
   "execution_count": 6,
   "id": "6a64dce4",
   "metadata": {},
   "outputs": [
    {
     "name": "stdout",
     "output_type": "stream",
     "text": [
      " A zeros array is \n",
      " [[0. 0. 0.]\n",
      " [0. 0. 0.]] with dimensions (2, 3) \n",
      "\n"
     ]
    }
   ],
   "source": [
    "import numpy as np\n",
    " # initialize an all zero array with size 2 X 3:\n",
    "zeros_arr = np.zeros((2,3))\n",
    "print(\" A zeros array is \\n\", zeros_arr, \"with dimensions\", zeros_arr.shape, \"\\n\")"
   ]
  },
  {
   "cell_type": "code",
   "execution_count": 17,
   "id": "081194ce",
   "metadata": {},
   "outputs": [
    {
     "name": "stdout",
     "output_type": "stream",
     "text": [
      "0D Array:\n",
      "5\n",
      "Shape: ()\n",
      "\n",
      "1D Array:\n",
      "[1 2 3 4 5]\n",
      "Shape: (5,)\n",
      "\n",
      "2D Array:\n",
      "[[1 2 3]\n",
      " [4 5 6]]\n",
      "Shape: (2, 3)\n",
      "\n",
      "3D Array:\n",
      "[[[1 2]\n",
      "  [3 4]]\n",
      "\n",
      " [[5 6]\n",
      "  [7 8]]]\n",
      "Shape: (2, 2, 2)\n",
      "\n"
     ]
    }
   ],
   "source": [
    "import numpy as np\n",
    "# Create arrays of different dimensions\n",
    "array_0d = np.array(5)\n",
    "array_1d = np.array([1, 2, 3, 4, 5])\n",
    "array_2d = np.array([[1, 2, 3], [4, 5, 6]])\n",
    "array_3d = np.array([[[1, 2], [3, 4]], [[5, 6], [7,8]]])\n",
    "# Print arrays with shapes\n",
    "for i, arr in enumerate([array_0d, array_1d, array_2d,array_3d]):\n",
    "    print(f\"{i}D Array:\\n{arr}\\nShape: {arr.shape}\\n\")"
   ]
  },
  {
   "cell_type": "code",
   "execution_count": 18,
   "id": "76dda048",
   "metadata": {},
   "outputs": [
    {
     "name": "stdout",
     "output_type": "stream",
     "text": [
      "0D Array:\n",
      "5\n",
      "Shape: ()\n",
      "\n",
      "1D Array:\n",
      "[1 2 3 4 5]\n",
      "Shape: (5,)\n",
      "\n",
      "2D Array:\n",
      "[[1 2 3]\n",
      " [4 5 6]]\n",
      "Shape: (2, 3)\n",
      "\n",
      "3D Array:\n",
      "[[[1 2]\n",
      "  [3 4]]\n",
      "\n",
      " [[5 6]\n",
      "  [7 8]]]\n",
      "Shape: (2, 2, 2)\n",
      "\n"
     ]
    }
   ],
   "source": [
    "import numpy as np\n",
    "# Create arrays of different dimensions\n",
    "array_0d = np.array(5)\n",
    "array_1d = np.array([1, 2, 3, 4, 5])\n",
    "array_2d = np.array([[1, 2, 3], [4, 5, 6]])\n",
    "array_3d = np.array([[[1, 2], [3, 4]], [[5, 6], [7,8]]])\n",
    "# Print arrays with shapes\n",
    "for i, arr in enumerate([array_0d, array_1d, array_2d,array_3d]):\n",
    "    print(f\"{i}D Array:\\n{arr}\\nShape: {arr.shape}\\n\");"
   ]
  },
  {
   "cell_type": "code",
   "execution_count": 21,
   "id": "9f4d6c56",
   "metadata": {},
   "outputs": [
    {
     "name": "stdout",
     "output_type": "stream",
     "text": [
      "[[1 2 5 6]\n",
      " [3 4 7 8]] \n",
      " [[1 2]\n",
      " [3 4]\n",
      " [5 6]\n",
      " [7 8]] \n",
      " [[1 5]\n",
      " [2 6]]\n"
     ]
    }
   ],
   "source": [
    "import numpy as np\n",
    "arr1 = np.array([[1, 2], [3, 4]]) # Shape: (2, 2)\n",
    "arr2 = np.array([[5, 6], [7, 8]]) # Shape: (2, 2)\n",
    " # Stacking examples\n",
    "hstacked = np.hstack((arr1, arr2))\n",
    " # Output hstack: [[1 2 5 6] [3 4 7 8]]\n",
    "vstacked = np.vstack((arr1, arr2))\n",
    "# Output vstack[[1 2] [3 4] [5 6] [7 8]]\n",
    "colstacked = np.column_stack((arr1[0], arr2[0]))\n",
    "# Output column stack: [[1 5] [2 6]]\n",
    "print(hstacked,\"\\n\", vstacked,\"\\n\",colstacked)"
   ]
  },
  {
   "cell_type": "code",
   "execution_count": 12,
   "id": "a9a93c9d",
   "metadata": {
    "scrolled": true
   },
   "outputs": [
    {
     "name": "stdout",
     "output_type": "stream",
     "text": [
      "[[0 1 2]\n",
      " [3 4 5]\n",
      " [6 7 8]]\n",
      "\n",
      "[[[ 0  1  2]\n",
      "  [ 3  4  5]\n",
      "  [ 6  7  8]]\n",
      "\n",
      " [[ 9 10 11]\n",
      "  [12 13 15]\n",
      "  [ 6  7  8]]]\n"
     ]
    }
   ],
   "source": [
    "import numpy as np\n",
    "arr1d=np.array([0,1,2,3,4,5,6])\n",
    "arr2d=np.array([[0,1,2],[3,4,5],[6,7,8]])\n",
    "arr3d=np.array([[[0,1,2],[3,4,5],[6,7,8]],[[9,10,11],[12,13,15],[6,7,8]]])\n",
    "print(arr2d)\n",
    "print()\n",
    "print(arr3d)"
   ]
  },
  {
   "cell_type": "code",
   "execution_count": 17,
   "id": "4c7fc5f5",
   "metadata": {},
   "outputs": [
    {
     "data": {
      "text/plain": [
       "array([[[ 1,  2],\n",
       "        [ 4,  5],\n",
       "        [ 7,  8]],\n",
       "\n",
       "       [[10, 11],\n",
       "        [13, 15],\n",
       "        [ 7,  8]]])"
      ]
     },
     "execution_count": 17,
     "metadata": {},
     "output_type": "execute_result"
    }
   ],
   "source": [
    "#slicing arrays to get sub arrays\n",
    "# arr1d[1:4]\n",
    "# arr2d[1:3,0:2]\n",
    "# arr2d[0:2,1:3]\n",
    "arr3d[0:2,0:3,1:3]  "
   ]
  },
  {
   "cell_type": "code",
   "execution_count": 18,
   "id": "197cded2",
   "metadata": {},
   "outputs": [],
   "source": [
    "#Vectorization helps to replac explict Python loops to perfrom operations on entire arraay at once "
   ]
  },
  {
   "cell_type": "code",
   "execution_count": null,
   "id": "8bb4c8c0",
   "metadata": {},
   "outputs": [],
   "source": [
    "#NumPy's internal impementaiton which is written in c \n",
    "#to execure computations much faster than looping overn elements in python\n",
    "#Numpy provides vectorized functions for performing element wise \n",
    "#operations inplicitly unfunc(Universal funtion)--arithmetic operations\n",
    "\n"
   ]
  }
 ],
 "metadata": {
  "kernelspec": {
   "display_name": "Python 3 (ipykernel)",
   "language": "python",
   "name": "python3"
  },
  "language_info": {
   "codemirror_mode": {
    "name": "ipython",
    "version": 3
   },
   "file_extension": ".py",
   "mimetype": "text/x-python",
   "name": "python",
   "nbconvert_exporter": "python",
   "pygments_lexer": "ipython3",
   "version": "3.10.9"
  }
 },
 "nbformat": 4,
 "nbformat_minor": 5
}
